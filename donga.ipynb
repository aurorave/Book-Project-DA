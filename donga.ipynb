{
 "cells": [
  {
   "cell_type": "code",
   "execution_count": 1,
   "metadata": {},
   "outputs": [],
   "source": [
    "import pandas as pd\n",
    "import numpy as np\n",
    "import re"
   ]
  },
  {
   "cell_type": "code",
   "execution_count": 2,
   "metadata": {},
   "outputs": [
    {
     "name": "stdout",
     "output_type": "stream",
     "text": [
      "        index                                                  0      date\n",
      "0           0                                           엘친 전격 사임  20000101\n",
      "1           1                                 [사설]새 희망으로 새 천년 열자  20000101\n",
      "2           2                                     “새천년 공동체의식 절실”  20000101\n",
      "3           3                             [사고]새천년 동아일보 새롭게 바뀝니다.  20000101\n",
      "4           4                   [석학 하버마스에 듣는다]“시민연대 키워야 사회정의 실현”  20000101\n",
      "...       ...                                                ...       ...\n",
      "473233     27  [부고]윤태윤 外본보 이미지 기자 복지부장관 표창한양언론인상 현상순-이수형-송기용씨...  20221119\n",
      "473234     28                                             제이에스다줌  20221119\n",
      "473235     29  [횡설수설/이진영]경기버스 입석 중단[동아시론/최영미]더 행복해지려, 불행을 잊으려...  20221119\n",
      "473236     30  [사설]경호처의 ‘군경 직접 지휘’ 시행령이 자초한 과거 퇴행 논란[사설]野 멋대로...  20221119\n",
      "473237     31                                                 LG  20221119\n",
      "\n",
      "[473238 rows x 3 columns]\n"
     ]
    },
    {
     "data": {
      "text/plain": [
       "(473238, 3)"
      ]
     },
     "execution_count": 2,
     "metadata": {},
     "output_type": "execute_result"
    }
   ],
   "source": [
    "df = pd.read_csv('donga_news_202211221448.csv')\n",
    "print(df)\n",
    "df.shape"
   ]
  },
  {
   "cell_type": "code",
   "execution_count": 3,
   "metadata": {},
   "outputs": [
    {
     "data": {
      "text/plain": [
       "(392340, 3)"
      ]
     },
     "execution_count": 3,
     "metadata": {},
     "output_type": "execute_result"
    }
   ],
   "source": [
    "df = df.drop_duplicates(['0'])\n",
    "df.shape"
   ]
  },
  {
   "cell_type": "code",
   "execution_count": 4,
   "metadata": {},
   "outputs": [],
   "source": [
    "stoplist = ['부고','오늘의 채널A','오늘의 운세','사설','인사','알립니다','무비줌인','칼럼','포토 에세이','인사이드＆인사이트',\n",
    "'게시판','바람개비','오늘의 경기','신문과 놀자!','우병탁의 절세통통(通)','양종구의 100세 시대 건강법','프리미엄뷰','머니 컨설팅',\n",
    "'책의 향기','글로벌 포커스','우병탁의 절세통통','Food&Dining','DBR/Special Report','날씨 이야기','그림책 한조각','프리미엄뷰',\n",
    "'edu+book','파워리더 인터뷰','알립니다','시사일본어학원','아파트 미리보기','Tech&','영남 파워기업','company&','특별기고','정도언의 마음의 지도',\n",
    "'지표로 보는 경제','광화문에서','횡설수설','시론','안영식의 스포츠&','만화 그리는 의사들', '홍지윤 요리쌤의 오늘 뭐 먹지?','HBR','왕은철의 스토리와 치유',\n",
    "'기고','직장인을 위한 김호의 생존의 방식','주성하 기자의 서울과 평양 사이','애널리스트의 마켓뷰','바둑','동아광장','Love&Gift','골든걸','화제의 분양현장',\n",
    "'책속의 이 한줄','토요이슈','인물동정','토요기획','토요판 커버스토리','Money&Life','기업&CEO','짧은 소설','Economic Review','신나는 공부',\n",
    "'Best of Best','이슈&뷰스','오늘과 내일','고미석의 詩로 여는 주말','Feeling','사이버대학','이 사람이 읽는 법','VISIT JAPAN!',\n",
    "'톡투 건강 핫클릭','한국에서살아보니','아하! 질병이야기','뉴리더','e-코리아로 가는길','징검다리','방송','전시']"
   ]
  },
  {
   "cell_type": "code",
   "execution_count": null,
   "metadata": {},
   "outputs": [],
   "source": [
    "df_result = pd.DataFrame()\n",
    "for i in stoplist:\n",
    "    result = df[df['0'].str.contains(i,na=False)]\n",
    "    df_result = pd.concat([df_result,result])\n",
    "    print(df_result)"
   ]
  },
  {
   "cell_type": "code",
   "execution_count": 8,
   "metadata": {},
   "outputs": [
    {
     "data": {
      "text/html": [
       "<div>\n",
       "<style scoped>\n",
       "    .dataframe tbody tr th:only-of-type {\n",
       "        vertical-align: middle;\n",
       "    }\n",
       "\n",
       "    .dataframe tbody tr th {\n",
       "        vertical-align: top;\n",
       "    }\n",
       "\n",
       "    .dataframe thead th {\n",
       "        text-align: right;\n",
       "    }\n",
       "</style>\n",
       "<table border=\"1\" class=\"dataframe\">\n",
       "  <thead>\n",
       "    <tr style=\"text-align: right;\">\n",
       "      <th></th>\n",
       "      <th>index</th>\n",
       "      <th>0</th>\n",
       "      <th>date</th>\n",
       "      <th>_merge</th>\n",
       "    </tr>\n",
       "  </thead>\n",
       "  <tbody>\n",
       "    <tr>\n",
       "      <th>0</th>\n",
       "      <td>0</td>\n",
       "      <td>엘친 전격 사임</td>\n",
       "      <td>20000101</td>\n",
       "      <td>left_only</td>\n",
       "    </tr>\n",
       "    <tr>\n",
       "      <th>1</th>\n",
       "      <td>1</td>\n",
       "      <td>[사설]새 희망으로 새 천년 열자</td>\n",
       "      <td>20000101</td>\n",
       "      <td>both</td>\n",
       "    </tr>\n",
       "    <tr>\n",
       "      <th>2</th>\n",
       "      <td>2</td>\n",
       "      <td>“새천년 공동체의식 절실”</td>\n",
       "      <td>20000101</td>\n",
       "      <td>left_only</td>\n",
       "    </tr>\n",
       "    <tr>\n",
       "      <th>3</th>\n",
       "      <td>3</td>\n",
       "      <td>[사고]새천년 동아일보 새롭게 바뀝니다.</td>\n",
       "      <td>20000101</td>\n",
       "      <td>left_only</td>\n",
       "    </tr>\n",
       "    <tr>\n",
       "      <th>4</th>\n",
       "      <td>4</td>\n",
       "      <td>[석학 하버마스에 듣는다]“시민연대 키워야 사회정의 실현”</td>\n",
       "      <td>20000101</td>\n",
       "      <td>left_only</td>\n",
       "    </tr>\n",
       "    <tr>\n",
       "      <th>...</th>\n",
       "      <td>...</td>\n",
       "      <td>...</td>\n",
       "      <td>...</td>\n",
       "      <td>...</td>\n",
       "    </tr>\n",
       "    <tr>\n",
       "      <th>429647</th>\n",
       "      <td>29</td>\n",
       "      <td>[횡설수설/이진영]경기버스 입석 중단[동아시론/최영미]더 행복해지려, 불행을 잊으려...</td>\n",
       "      <td>20221119</td>\n",
       "      <td>both</td>\n",
       "    </tr>\n",
       "    <tr>\n",
       "      <th>429648</th>\n",
       "      <td>29</td>\n",
       "      <td>[횡설수설/이진영]경기버스 입석 중단[동아시론/최영미]더 행복해지려, 불행을 잊으려...</td>\n",
       "      <td>20221119</td>\n",
       "      <td>both</td>\n",
       "    </tr>\n",
       "    <tr>\n",
       "      <th>429649</th>\n",
       "      <td>29</td>\n",
       "      <td>[횡설수설/이진영]경기버스 입석 중단[동아시론/최영미]더 행복해지려, 불행을 잊으려...</td>\n",
       "      <td>20221119</td>\n",
       "      <td>both</td>\n",
       "    </tr>\n",
       "    <tr>\n",
       "      <th>429650</th>\n",
       "      <td>30</td>\n",
       "      <td>[사설]경호처의 ‘군경 직접 지휘’ 시행령이 자초한 과거 퇴행 논란[사설]野 멋대로...</td>\n",
       "      <td>20221119</td>\n",
       "      <td>both</td>\n",
       "    </tr>\n",
       "    <tr>\n",
       "      <th>429651</th>\n",
       "      <td>30</td>\n",
       "      <td>[사설]경호처의 ‘군경 직접 지휘’ 시행령이 자초한 과거 퇴행 논란[사설]野 멋대로...</td>\n",
       "      <td>20221119</td>\n",
       "      <td>both</td>\n",
       "    </tr>\n",
       "  </tbody>\n",
       "</table>\n",
       "<p>429652 rows × 4 columns</p>\n",
       "</div>"
      ],
      "text/plain": [
       "        index                                                  0      date  \\\n",
       "0           0                                           엘친 전격 사임  20000101   \n",
       "1           1                                 [사설]새 희망으로 새 천년 열자  20000101   \n",
       "2           2                                     “새천년 공동체의식 절실”  20000101   \n",
       "3           3                             [사고]새천년 동아일보 새롭게 바뀝니다.  20000101   \n",
       "4           4                   [석학 하버마스에 듣는다]“시민연대 키워야 사회정의 실현”  20000101   \n",
       "...       ...                                                ...       ...   \n",
       "429647     29  [횡설수설/이진영]경기버스 입석 중단[동아시론/최영미]더 행복해지려, 불행을 잊으려...  20221119   \n",
       "429648     29  [횡설수설/이진영]경기버스 입석 중단[동아시론/최영미]더 행복해지려, 불행을 잊으려...  20221119   \n",
       "429649     29  [횡설수설/이진영]경기버스 입석 중단[동아시론/최영미]더 행복해지려, 불행을 잊으려...  20221119   \n",
       "429650     30  [사설]경호처의 ‘군경 직접 지휘’ 시행령이 자초한 과거 퇴행 논란[사설]野 멋대로...  20221119   \n",
       "429651     30  [사설]경호처의 ‘군경 직접 지휘’ 시행령이 자초한 과거 퇴행 논란[사설]野 멋대로...  20221119   \n",
       "\n",
       "           _merge  \n",
       "0       left_only  \n",
       "1            both  \n",
       "2       left_only  \n",
       "3       left_only  \n",
       "4       left_only  \n",
       "...           ...  \n",
       "429647       both  \n",
       "429648       both  \n",
       "429649       both  \n",
       "429650       both  \n",
       "429651       both  \n",
       "\n",
       "[429652 rows x 4 columns]"
      ]
     },
     "execution_count": 8,
     "metadata": {},
     "output_type": "execute_result"
    }
   ],
   "source": [
    "df = pd.merge(df,df_result, how='outer', indicator=True)\n",
    "df"
   ]
  },
  {
   "cell_type": "code",
   "execution_count": 9,
   "metadata": {},
   "outputs": [
    {
     "data": {
      "text/html": [
       "<div>\n",
       "<style scoped>\n",
       "    .dataframe tbody tr th:only-of-type {\n",
       "        vertical-align: middle;\n",
       "    }\n",
       "\n",
       "    .dataframe tbody tr th {\n",
       "        vertical-align: top;\n",
       "    }\n",
       "\n",
       "    .dataframe thead th {\n",
       "        text-align: right;\n",
       "    }\n",
       "</style>\n",
       "<table border=\"1\" class=\"dataframe\">\n",
       "  <thead>\n",
       "    <tr style=\"text-align: right;\">\n",
       "      <th></th>\n",
       "      <th>index</th>\n",
       "      <th>0</th>\n",
       "      <th>date</th>\n",
       "    </tr>\n",
       "  </thead>\n",
       "  <tbody>\n",
       "    <tr>\n",
       "      <th>0</th>\n",
       "      <td>0</td>\n",
       "      <td>엘친 전격 사임</td>\n",
       "      <td>20000101</td>\n",
       "    </tr>\n",
       "    <tr>\n",
       "      <th>2</th>\n",
       "      <td>2</td>\n",
       "      <td>“새천년 공동체의식 절실”</td>\n",
       "      <td>20000101</td>\n",
       "    </tr>\n",
       "    <tr>\n",
       "      <th>3</th>\n",
       "      <td>3</td>\n",
       "      <td>[사고]새천년 동아일보 새롭게 바뀝니다.</td>\n",
       "      <td>20000101</td>\n",
       "    </tr>\n",
       "    <tr>\n",
       "      <th>4</th>\n",
       "      <td>4</td>\n",
       "      <td>[석학 하버마스에 듣는다]“시민연대 키워야 사회정의 실현”</td>\n",
       "      <td>20000101</td>\n",
       "    </tr>\n",
       "    <tr>\n",
       "      <th>5</th>\n",
       "      <td>5</td>\n",
       "      <td>광화문 새쳔년맞이 행사를 보고</td>\n",
       "      <td>20000101</td>\n",
       "    </tr>\n",
       "    <tr>\n",
       "      <th>...</th>\n",
       "      <td>...</td>\n",
       "      <td>...</td>\n",
       "      <td>...</td>\n",
       "    </tr>\n",
       "    <tr>\n",
       "      <th>429632</th>\n",
       "      <td>5</td>\n",
       "      <td>11년 국회에 묶인 서비스업발전법 재추진“금리인상에 민간 이자부담 내년말까지 34조...</td>\n",
       "      <td>20221119</td>\n",
       "    </tr>\n",
       "    <tr>\n",
       "      <th>429633</th>\n",
       "      <td>7</td>\n",
       "      <td>‘우리는 음지…’ 복원된 국정원 원훈석 공개박희영 용산구청장-류미진 총경… 특수본,...</td>\n",
       "      <td>20221119</td>\n",
       "    </tr>\n",
       "    <tr>\n",
       "      <th>429634</th>\n",
       "      <td>9</td>\n",
       "      <td>보이스피싱 길목 8곳 콕 집어 단속… 피해건수-금액 확 줄었다</td>\n",
       "      <td>20221119</td>\n",
       "    </tr>\n",
       "    <tr>\n",
       "      <th>429636</th>\n",
       "      <td>13</td>\n",
       "      <td>가나 감독 “손흥민 빨리 회복해 뛰길 바란다”호날두 결장? 포르투갈은 티도 안 난다...</td>\n",
       "      <td>20221119</td>\n",
       "    </tr>\n",
       "    <tr>\n",
       "      <th>429644</th>\n",
       "      <td>26</td>\n",
       "      <td>갓파가 사는 온천… 스키어 유혹하는 요테이산… 레저천국이 부른다[전승훈 기자의 아트로드]</td>\n",
       "      <td>20221119</td>\n",
       "    </tr>\n",
       "  </tbody>\n",
       "</table>\n",
       "<p>316609 rows × 3 columns</p>\n",
       "</div>"
      ],
      "text/plain": [
       "        index                                                  0      date\n",
       "0           0                                           엘친 전격 사임  20000101\n",
       "2           2                                     “새천년 공동체의식 절실”  20000101\n",
       "3           3                             [사고]새천년 동아일보 새롭게 바뀝니다.  20000101\n",
       "4           4                   [석학 하버마스에 듣는다]“시민연대 키워야 사회정의 실현”  20000101\n",
       "5           5                                   광화문 새쳔년맞이 행사를 보고  20000101\n",
       "...       ...                                                ...       ...\n",
       "429632      5  11년 국회에 묶인 서비스업발전법 재추진“금리인상에 민간 이자부담 내년말까지 34조...  20221119\n",
       "429633      7  ‘우리는 음지…’ 복원된 국정원 원훈석 공개박희영 용산구청장-류미진 총경… 특수본,...  20221119\n",
       "429634      9                 보이스피싱 길목 8곳 콕 집어 단속… 피해건수-금액 확 줄었다  20221119\n",
       "429636     13  가나 감독 “손흥민 빨리 회복해 뛰길 바란다”호날두 결장? 포르투갈은 티도 안 난다...  20221119\n",
       "429644     26  갓파가 사는 온천… 스키어 유혹하는 요테이산… 레저천국이 부른다[전승훈 기자의 아트로드]  20221119\n",
       "\n",
       "[316609 rows x 3 columns]"
      ]
     },
     "execution_count": 9,
     "metadata": {},
     "output_type": "execute_result"
    }
   ],
   "source": [
    "df = df.query('_merge == \"left_only\"').drop(columns=['_merge'])\n",
    "df"
   ]
  },
  {
   "cell_type": "code",
   "execution_count": 10,
   "metadata": {},
   "outputs": [],
   "source": [
    "import datetime"
   ]
  },
  {
   "cell_type": "code",
   "execution_count": 12,
   "metadata": {},
   "outputs": [
    {
     "data": {
      "text/plain": [
       "index     int64\n",
       "0        object\n",
       "date      int64\n",
       "dtype: object"
      ]
     },
     "execution_count": 12,
     "metadata": {},
     "output_type": "execute_result"
    }
   ],
   "source": [
    "df.dtypes"
   ]
  },
  {
   "cell_type": "code",
   "execution_count": 13,
   "metadata": {},
   "outputs": [],
   "source": [
    "df['date'] = df['date'].apply(lambda x: pd.to_datetime(str(x), format='%Y-%m-%d'))"
   ]
  }
 ],
 "metadata": {
  "kernelspec": {
   "display_name": "Python 3.10.4 64-bit",
   "language": "python",
   "name": "python3"
  },
  "language_info": {
   "codemirror_mode": {
    "name": "ipython",
    "version": 3
   },
   "file_extension": ".py",
   "mimetype": "text/x-python",
   "name": "python",
   "nbconvert_exporter": "python",
   "pygments_lexer": "ipython3",
   "version": "3.10.4"
  },
  "orig_nbformat": 4,
  "vscode": {
   "interpreter": {
    "hash": "e61232730b999fc0c19071ba2186864ad7a495aa8575040cd85a43a1b00dc407"
   }
  }
 },
 "nbformat": 4,
 "nbformat_minor": 2
}
