{
 "cells": [
  {
   "cell_type": "markdown",
   "metadata": {},
   "source": [
    "# Import Libraries "
   ]
  },
  {
   "cell_type": "code",
   "execution_count": 2,
   "metadata": {},
   "outputs": [],
   "source": [
    "import pandas as pd\n",
    "import numpy as np\n",
    "import re"
   ]
  },
  {
   "cell_type": "markdown",
   "metadata": {},
   "source": [
    "# Read csv file"
   ]
  },
  {
   "cell_type": "code",
   "execution_count": 3,
   "metadata": {},
   "outputs": [
    {
     "name": "stderr",
     "output_type": "stream",
     "text": [
      "C:\\Users\\maeve\\AppData\\Local\\Temp\\ipykernel_17112\\3576340442.py:1: DtypeWarning: Columns (5,10) have mixed types. Specify dtype option on import or set low_memory=False.\n",
      "  data = pd.read_csv(r'C:\\Users\\maeve\\AIB 14\\Section6\\Codestates Project 2\\data\\jongang_isbn_202211270215.csv')\n"
     ]
    },
    {
     "data": {
      "text/plain": [
       "(4434961, 11)"
      ]
     },
     "execution_count": 3,
     "metadata": {},
     "output_type": "execute_result"
    }
   ],
   "source": [
    "data = pd.read_csv(r'C:\\Users\\maeve\\AIB 14\\Section6\\Codestates Project 2\\data\\jongang_isbn_202211270215.csv')\n",
    "data.shape"
   ]
  },
  {
   "cell_type": "code",
   "execution_count": 4,
   "metadata": {},
   "outputs": [
    {
     "name": "stdout",
     "output_type": "stream",
     "text": [
      "<class 'pandas.core.frame.DataFrame'>\n",
      "RangeIndex: 4434961 entries, 0 to 4434960\n",
      "Data columns (total 11 columns):\n",
      " #   Column         Dtype  \n",
      "---  ------         -----  \n",
      " 0   index          int64  \n",
      " 1   title          object \n",
      " 2   author         object \n",
      " 3   pub_year       float64\n",
      " 4   pub            object \n",
      " 5   isbn_add_code  object \n",
      " 6   repub          object \n",
      " 7   isbn           object \n",
      " 8   ebook          object \n",
      " 9   price          object \n",
      " 10  SUBJECT        object \n",
      "dtypes: float64(1), int64(1), object(9)\n",
      "memory usage: 372.2+ MB\n"
     ]
    }
   ],
   "source": [
    "data.info()"
   ]
  },
  {
   "cell_type": "markdown",
   "metadata": {},
   "source": [
    "# TO-DO\n",
    "- title 중복 -> 삭제\n",
    "- pub_year 결측값 대체+연/월/일 쪼개기\n",
    "- isbn_add_code -> \n",
    "- isbn ->\n",
    "- SUBJECT\n",
    "\n",
    "+ 결측치 처리방법\n",
    "- 타이틀은 삭제\n",
    "- isbn_add_code 유지 \n",
    "- isbn 유지\n",
    "\n",
    "- +a"
   ]
  },
  {
   "cell_type": "code",
   "execution_count": 5,
   "metadata": {},
   "outputs": [],
   "source": [
    "# 함수화 - 필요없음!!\n",
    "\n",
    "# def jd_isbn(df)"
   ]
  },
  {
   "cell_type": "code",
   "execution_count": 6,
   "metadata": {},
   "outputs": [
    {
     "data": {
      "text/plain": [
       "index                  0\n",
       "title                271\n",
       "author             69631\n",
       "pub_year           49134\n",
       "pub                   36\n",
       "isbn_add_code     246150\n",
       "repub            4147910\n",
       "isbn              229784\n",
       "ebook                  0\n",
       "price             110455\n",
       "SUBJECT            67594\n",
       "dtype: int64"
      ]
     },
     "execution_count": 6,
     "metadata": {},
     "output_type": "execute_result"
    }
   ],
   "source": [
    "data.isnull().sum() # 컬럼별 결측치 개수 확인\n",
    "\n",
    "# 컬럼명(타입명, 결측치 수)\n",
    "# title(object, 271): 삭제\n",
    "# author(object, 69631): Unknown\n",
    "# pub_year(float64, 49134): 0\n",
    "# pub(object, 36): Unknown\n",
    "# isbn_add_code(object, 246150): Unknown\n",
    "# repub(object, 4147910): NA\n",
    "# isbn(object, 229784): Unknown\n",
    "# price(object, 110455): Unknown\n",
    "# SUBJECT(object, 67594): Unknown"
   ]
  },
  {
   "cell_type": "code",
   "execution_count": 7,
   "metadata": {},
   "outputs": [
    {
     "name": "stdout",
     "output_type": "stream",
     "text": [
      "<class 'pandas.core.frame.DataFrame'>\n",
      "RangeIndex: 4434961 entries, 0 to 4434960\n",
      "Data columns (total 11 columns):\n",
      " #   Column         Dtype  \n",
      "---  ------         -----  \n",
      " 0   index          int64  \n",
      " 1   title          object \n",
      " 2   author         object \n",
      " 3   pub_year       float64\n",
      " 4   pub            object \n",
      " 5   isbn_add_code  object \n",
      " 6   repub          object \n",
      " 7   isbn           object \n",
      " 8   ebook          object \n",
      " 9   price          object \n",
      " 10  SUBJECT        object \n",
      "dtypes: float64(1), int64(1), object(9)\n",
      "memory usage: 372.2+ MB\n"
     ]
    }
   ],
   "source": [
    "data.info()"
   ]
  },
  {
   "cell_type": "code",
   "execution_count": 8,
   "metadata": {},
   "outputs": [],
   "source": [
    "df = data.copy()"
   ]
  },
  {
   "cell_type": "markdown",
   "metadata": {},
   "source": [
    "title 결측치 제거+5개 칼럼 .fillna()"
   ]
  },
  {
   "cell_type": "code",
   "execution_count": 30,
   "metadata": {},
   "outputs": [
    {
     "data": {
      "text/html": [
       "<div>\n",
       "<style scoped>\n",
       "    .dataframe tbody tr th:only-of-type {\n",
       "        vertical-align: middle;\n",
       "    }\n",
       "\n",
       "    .dataframe tbody tr th {\n",
       "        vertical-align: top;\n",
       "    }\n",
       "\n",
       "    .dataframe thead th {\n",
       "        text-align: right;\n",
       "    }\n",
       "</style>\n",
       "<table border=\"1\" class=\"dataframe\">\n",
       "  <thead>\n",
       "    <tr style=\"text-align: right;\">\n",
       "      <th></th>\n",
       "      <th>index</th>\n",
       "      <th>title</th>\n",
       "      <th>author</th>\n",
       "      <th>pub_year</th>\n",
       "      <th>pub</th>\n",
       "      <th>isbn_add_code</th>\n",
       "      <th>repub</th>\n",
       "      <th>isbn</th>\n",
       "      <th>ebook</th>\n",
       "      <th>price</th>\n",
       "      <th>SUBJECT</th>\n",
       "    </tr>\n",
       "  </thead>\n",
       "  <tbody>\n",
       "    <tr>\n",
       "      <th>0</th>\n",
       "      <td>0</td>\n",
       "      <td>21세기 사회주의</td>\n",
       "      <td>지은이: 콜린 바커 ;옮긴이: 이수현</td>\n",
       "      <td>20130528.0</td>\n",
       "      <td>(노동자연대) 다함께</td>\n",
       "      <td>3300.0</td>\n",
       "      <td>(노동자연대) 다함께</td>\n",
       "      <td>9788996911043</td>\n",
       "      <td>N</td>\n",
       "      <td>3000</td>\n",
       "      <td>3.0</td>\n",
       "    </tr>\n",
       "    <tr>\n",
       "      <th>1</th>\n",
       "      <td>0</td>\n",
       "      <td>질풍노도 연재 120</td>\n",
       "      <td>금강</td>\n",
       "      <td>20130701.0</td>\n",
       "      <td>문피아</td>\n",
       "      <td>5810.0</td>\n",
       "      <td>문피아</td>\n",
       "      <td>9791130515137</td>\n",
       "      <td>Y</td>\n",
       "      <td>100</td>\n",
       "      <td>8.0</td>\n",
       "    </tr>\n",
       "    <tr>\n",
       "      <th>2</th>\n",
       "      <td>0</td>\n",
       "      <td>2013년 (중간시험 범위) 중간고사 기출예상문제 1-2</td>\n",
       "      <td>편집부</td>\n",
       "      <td>20130826.0</td>\n",
       "      <td>(주)천재교육</td>\n",
       "      <td>63370.0</td>\n",
       "      <td>(주)천재교육</td>\n",
       "      <td>9788926970546</td>\n",
       "      <td>N</td>\n",
       "      <td>10000</td>\n",
       "      <td>3.0</td>\n",
       "    </tr>\n",
       "    <tr>\n",
       "      <th>3</th>\n",
       "      <td>0</td>\n",
       "      <td>부동산가격공시 및 토지취득보상법 판례해설</td>\n",
       "      <td>도승하</td>\n",
       "      <td>20130701.0</td>\n",
       "      <td>(주)리북스커뮤니티</td>\n",
       "      <td>13360.0</td>\n",
       "      <td>(주)리북스커뮤니티</td>\n",
       "      <td>9788964241110</td>\n",
       "      <td>N</td>\n",
       "      <td>18000</td>\n",
       "      <td>3.0</td>\n",
       "    </tr>\n",
       "    <tr>\n",
       "      <th>4</th>\n",
       "      <td>0</td>\n",
       "      <td>장화홍련전 홍련에게 질투를 하여튼 못난 것들이 꼬라지하고는</td>\n",
       "      <td>신종훈</td>\n",
       "      <td>20130707.0</td>\n",
       "      <td>크리에이티브라이프</td>\n",
       "      <td>3810.0</td>\n",
       "      <td>크리에이티브라이프</td>\n",
       "      <td>9788997216048</td>\n",
       "      <td>N</td>\n",
       "      <td>3000</td>\n",
       "      <td>8.0</td>\n",
       "    </tr>\n",
       "  </tbody>\n",
       "</table>\n",
       "</div>"
      ],
      "text/plain": [
       "   index                             title                author    pub_year  \\\n",
       "0      0                        21세기 사회주의   지은이: 콜린 바커 ;옮긴이: 이수현  20130528.0   \n",
       "1      0                       질풍노도 연재 120                    금강  20130701.0   \n",
       "2      0   2013년 (중간시험 범위) 중간고사 기출예상문제 1-2                   편집부  20130826.0   \n",
       "3      0            부동산가격공시 및 토지취득보상법 판례해설                   도승하  20130701.0   \n",
       "4      0  장화홍련전 홍련에게 질투를 하여튼 못난 것들이 꼬라지하고는                   신종훈  20130707.0   \n",
       "\n",
       "           pub isbn_add_code        repub           isbn ebook  price SUBJECT  \n",
       "0  (노동자연대) 다함께        3300.0  (노동자연대) 다함께  9788996911043     N   3000     3.0  \n",
       "1          문피아        5810.0          문피아  9791130515137     Y    100     8.0  \n",
       "2      (주)천재교육       63370.0      (주)천재교육  9788926970546     N  10000     3.0  \n",
       "3   (주)리북스커뮤니티       13360.0   (주)리북스커뮤니티  9788964241110     N  18000     3.0  \n",
       "4    크리에이티브라이프        3810.0    크리에이티브라이프  9788997216048     N   3000     8.0  "
      ]
     },
     "execution_count": 30,
     "metadata": {},
     "output_type": "execute_result"
    }
   ],
   "source": [
    "df = df[df.title.isnull() != True] # 271개 삭제 후: (4434690, 11)\n",
    "\n",
    "df.author = df.author.fillna('Unknown')\n",
    "df.pub = df.pub.fillna('Unknown')\n",
    "df.repub = df.pub.fillna('NA')\n",
    "df.price = df.price.fillna('Unknown')\n",
    "df.SUBJECT = df.SUBJECT.fillna('Unknown')\n",
    "\n",
    "df.head(5)"
   ]
  },
  {
   "cell_type": "markdown",
   "metadata": {},
   "source": [
    "pub_year.fillna(0)+정수화"
   ]
  },
  {
   "cell_type": "code",
   "execution_count": 31,
   "metadata": {},
   "outputs": [
    {
     "data": {
      "text/html": [
       "<div>\n",
       "<style scoped>\n",
       "    .dataframe tbody tr th:only-of-type {\n",
       "        vertical-align: middle;\n",
       "    }\n",
       "\n",
       "    .dataframe tbody tr th {\n",
       "        vertical-align: top;\n",
       "    }\n",
       "\n",
       "    .dataframe thead th {\n",
       "        text-align: right;\n",
       "    }\n",
       "</style>\n",
       "<table border=\"1\" class=\"dataframe\">\n",
       "  <thead>\n",
       "    <tr style=\"text-align: right;\">\n",
       "      <th></th>\n",
       "      <th>index</th>\n",
       "      <th>title</th>\n",
       "      <th>author</th>\n",
       "      <th>pub_year</th>\n",
       "      <th>pub</th>\n",
       "      <th>isbn_add_code</th>\n",
       "      <th>repub</th>\n",
       "      <th>isbn</th>\n",
       "      <th>ebook</th>\n",
       "      <th>price</th>\n",
       "      <th>SUBJECT</th>\n",
       "    </tr>\n",
       "  </thead>\n",
       "  <tbody>\n",
       "    <tr>\n",
       "      <th>0</th>\n",
       "      <td>0</td>\n",
       "      <td>21세기 사회주의</td>\n",
       "      <td>지은이: 콜린 바커 ;옮긴이: 이수현</td>\n",
       "      <td>20130528.0</td>\n",
       "      <td>(노동자연대) 다함께</td>\n",
       "      <td>3300.0</td>\n",
       "      <td>(노동자연대) 다함께</td>\n",
       "      <td>9788996911043</td>\n",
       "      <td>N</td>\n",
       "      <td>3000</td>\n",
       "      <td>3.0</td>\n",
       "    </tr>\n",
       "    <tr>\n",
       "      <th>1</th>\n",
       "      <td>0</td>\n",
       "      <td>질풍노도 연재 120</td>\n",
       "      <td>금강</td>\n",
       "      <td>20130701.0</td>\n",
       "      <td>문피아</td>\n",
       "      <td>5810.0</td>\n",
       "      <td>문피아</td>\n",
       "      <td>9791130515137</td>\n",
       "      <td>Y</td>\n",
       "      <td>100</td>\n",
       "      <td>8.0</td>\n",
       "    </tr>\n",
       "    <tr>\n",
       "      <th>2</th>\n",
       "      <td>0</td>\n",
       "      <td>2013년 (중간시험 범위) 중간고사 기출예상문제 1-2</td>\n",
       "      <td>편집부</td>\n",
       "      <td>20130826.0</td>\n",
       "      <td>(주)천재교육</td>\n",
       "      <td>63370.0</td>\n",
       "      <td>(주)천재교육</td>\n",
       "      <td>9788926970546</td>\n",
       "      <td>N</td>\n",
       "      <td>10000</td>\n",
       "      <td>3.0</td>\n",
       "    </tr>\n",
       "    <tr>\n",
       "      <th>3</th>\n",
       "      <td>0</td>\n",
       "      <td>부동산가격공시 및 토지취득보상법 판례해설</td>\n",
       "      <td>도승하</td>\n",
       "      <td>20130701.0</td>\n",
       "      <td>(주)리북스커뮤니티</td>\n",
       "      <td>13360.0</td>\n",
       "      <td>(주)리북스커뮤니티</td>\n",
       "      <td>9788964241110</td>\n",
       "      <td>N</td>\n",
       "      <td>18000</td>\n",
       "      <td>3.0</td>\n",
       "    </tr>\n",
       "    <tr>\n",
       "      <th>4</th>\n",
       "      <td>0</td>\n",
       "      <td>장화홍련전 홍련에게 질투를 하여튼 못난 것들이 꼬라지하고는</td>\n",
       "      <td>신종훈</td>\n",
       "      <td>20130707.0</td>\n",
       "      <td>크리에이티브라이프</td>\n",
       "      <td>3810.0</td>\n",
       "      <td>크리에이티브라이프</td>\n",
       "      <td>9788997216048</td>\n",
       "      <td>N</td>\n",
       "      <td>3000</td>\n",
       "      <td>8.0</td>\n",
       "    </tr>\n",
       "  </tbody>\n",
       "</table>\n",
       "</div>"
      ],
      "text/plain": [
       "   index                             title                author    pub_year  \\\n",
       "0      0                        21세기 사회주의   지은이: 콜린 바커 ;옮긴이: 이수현  20130528.0   \n",
       "1      0                       질풍노도 연재 120                    금강  20130701.0   \n",
       "2      0   2013년 (중간시험 범위) 중간고사 기출예상문제 1-2                   편집부  20130826.0   \n",
       "3      0            부동산가격공시 및 토지취득보상법 판례해설                   도승하  20130701.0   \n",
       "4      0  장화홍련전 홍련에게 질투를 하여튼 못난 것들이 꼬라지하고는                   신종훈  20130707.0   \n",
       "\n",
       "           pub isbn_add_code        repub           isbn ebook  price SUBJECT  \n",
       "0  (노동자연대) 다함께        3300.0  (노동자연대) 다함께  9788996911043     N   3000     3.0  \n",
       "1          문피아        5810.0          문피아  9791130515137     Y    100     8.0  \n",
       "2      (주)천재교육       63370.0      (주)천재교육  9788926970546     N  10000     3.0  \n",
       "3   (주)리북스커뮤니티       13360.0   (주)리북스커뮤니티  9788964241110     N  18000     3.0  \n",
       "4    크리에이티브라이프        3810.0    크리에이티브라이프  9788997216048     N   3000     8.0  "
      ]
     },
     "execution_count": 31,
     "metadata": {},
     "output_type": "execute_result"
    }
   ],
   "source": [
    "df.pub_year = df.pub_year.fillna(0)\n",
    "df.pub_year = df.pub_year.astype('str')\n",
    "\n",
    "df.head(5)"
   ]
  },
  {
   "cell_type": "code",
   "execution_count": 32,
   "metadata": {},
   "outputs": [
    {
     "data": {
      "text/plain": [
       "('2013', '05', '28.0')"
      ]
     },
     "execution_count": 32,
     "metadata": {},
     "output_type": "execute_result"
    }
   ],
   "source": [
    "df.pub_year[0][:4], df.pub_year[0][4:6], df.pub_year[0][6:]"
   ]
  },
  {
   "cell_type": "markdown",
   "metadata": {},
   "source": [
    "pub_year-> pub_date로 컬럼명 변경+연/월/일 떼어내기"
   ]
  },
  {
   "cell_type": "code",
   "execution_count": 33,
   "metadata": {},
   "outputs": [
    {
     "data": {
      "text/html": [
       "<div>\n",
       "<style scoped>\n",
       "    .dataframe tbody tr th:only-of-type {\n",
       "        vertical-align: middle;\n",
       "    }\n",
       "\n",
       "    .dataframe tbody tr th {\n",
       "        vertical-align: top;\n",
       "    }\n",
       "\n",
       "    .dataframe thead th {\n",
       "        text-align: right;\n",
       "    }\n",
       "</style>\n",
       "<table border=\"1\" class=\"dataframe\">\n",
       "  <thead>\n",
       "    <tr style=\"text-align: right;\">\n",
       "      <th></th>\n",
       "      <th>index</th>\n",
       "      <th>title</th>\n",
       "      <th>author</th>\n",
       "      <th>pub_date</th>\n",
       "      <th>pub</th>\n",
       "      <th>isbn_add_code</th>\n",
       "      <th>repub</th>\n",
       "      <th>isbn</th>\n",
       "      <th>ebook</th>\n",
       "      <th>price</th>\n",
       "      <th>SUBJECT</th>\n",
       "    </tr>\n",
       "  </thead>\n",
       "  <tbody>\n",
       "    <tr>\n",
       "      <th>0</th>\n",
       "      <td>0</td>\n",
       "      <td>21세기 사회주의</td>\n",
       "      <td>지은이: 콜린 바커 ;옮긴이: 이수현</td>\n",
       "      <td>20130528.0</td>\n",
       "      <td>(노동자연대) 다함께</td>\n",
       "      <td>3300.0</td>\n",
       "      <td>(노동자연대) 다함께</td>\n",
       "      <td>9788996911043</td>\n",
       "      <td>N</td>\n",
       "      <td>3000</td>\n",
       "      <td>3.0</td>\n",
       "    </tr>\n",
       "    <tr>\n",
       "      <th>1</th>\n",
       "      <td>0</td>\n",
       "      <td>질풍노도 연재 120</td>\n",
       "      <td>금강</td>\n",
       "      <td>20130701.0</td>\n",
       "      <td>문피아</td>\n",
       "      <td>5810.0</td>\n",
       "      <td>문피아</td>\n",
       "      <td>9791130515137</td>\n",
       "      <td>Y</td>\n",
       "      <td>100</td>\n",
       "      <td>8.0</td>\n",
       "    </tr>\n",
       "    <tr>\n",
       "      <th>2</th>\n",
       "      <td>0</td>\n",
       "      <td>2013년 (중간시험 범위) 중간고사 기출예상문제 1-2</td>\n",
       "      <td>편집부</td>\n",
       "      <td>20130826.0</td>\n",
       "      <td>(주)천재교육</td>\n",
       "      <td>63370.0</td>\n",
       "      <td>(주)천재교육</td>\n",
       "      <td>9788926970546</td>\n",
       "      <td>N</td>\n",
       "      <td>10000</td>\n",
       "      <td>3.0</td>\n",
       "    </tr>\n",
       "    <tr>\n",
       "      <th>3</th>\n",
       "      <td>0</td>\n",
       "      <td>부동산가격공시 및 토지취득보상법 판례해설</td>\n",
       "      <td>도승하</td>\n",
       "      <td>20130701.0</td>\n",
       "      <td>(주)리북스커뮤니티</td>\n",
       "      <td>13360.0</td>\n",
       "      <td>(주)리북스커뮤니티</td>\n",
       "      <td>9788964241110</td>\n",
       "      <td>N</td>\n",
       "      <td>18000</td>\n",
       "      <td>3.0</td>\n",
       "    </tr>\n",
       "    <tr>\n",
       "      <th>4</th>\n",
       "      <td>0</td>\n",
       "      <td>장화홍련전 홍련에게 질투를 하여튼 못난 것들이 꼬라지하고는</td>\n",
       "      <td>신종훈</td>\n",
       "      <td>20130707.0</td>\n",
       "      <td>크리에이티브라이프</td>\n",
       "      <td>3810.0</td>\n",
       "      <td>크리에이티브라이프</td>\n",
       "      <td>9788997216048</td>\n",
       "      <td>N</td>\n",
       "      <td>3000</td>\n",
       "      <td>8.0</td>\n",
       "    </tr>\n",
       "  </tbody>\n",
       "</table>\n",
       "</div>"
      ],
      "text/plain": [
       "   index                             title                author    pub_date  \\\n",
       "0      0                        21세기 사회주의   지은이: 콜린 바커 ;옮긴이: 이수현  20130528.0   \n",
       "1      0                       질풍노도 연재 120                    금강  20130701.0   \n",
       "2      0   2013년 (중간시험 범위) 중간고사 기출예상문제 1-2                   편집부  20130826.0   \n",
       "3      0            부동산가격공시 및 토지취득보상법 판례해설                   도승하  20130701.0   \n",
       "4      0  장화홍련전 홍련에게 질투를 하여튼 못난 것들이 꼬라지하고는                   신종훈  20130707.0   \n",
       "\n",
       "           pub isbn_add_code        repub           isbn ebook  price SUBJECT  \n",
       "0  (노동자연대) 다함께        3300.0  (노동자연대) 다함께  9788996911043     N   3000     3.0  \n",
       "1          문피아        5810.0          문피아  9791130515137     Y    100     8.0  \n",
       "2      (주)천재교육       63370.0      (주)천재교육  9788926970546     N  10000     3.0  \n",
       "3   (주)리북스커뮤니티       13360.0   (주)리북스커뮤니티  9788964241110     N  18000     3.0  \n",
       "4    크리에이티브라이프        3810.0    크리에이티브라이프  9788997216048     N   3000     8.0  "
      ]
     },
     "execution_count": 33,
     "metadata": {},
     "output_type": "execute_result"
    }
   ],
   "source": [
    "df = df.rename(columns={'pub_year': 'pub_date'})\n",
    "\n",
    "df.head(5)"
   ]
  },
  {
   "cell_type": "code",
   "execution_count": 34,
   "metadata": {},
   "outputs": [
    {
     "data": {
      "text/html": [
       "<div>\n",
       "<style scoped>\n",
       "    .dataframe tbody tr th:only-of-type {\n",
       "        vertical-align: middle;\n",
       "    }\n",
       "\n",
       "    .dataframe tbody tr th {\n",
       "        vertical-align: top;\n",
       "    }\n",
       "\n",
       "    .dataframe thead th {\n",
       "        text-align: right;\n",
       "    }\n",
       "</style>\n",
       "<table border=\"1\" class=\"dataframe\">\n",
       "  <thead>\n",
       "    <tr style=\"text-align: right;\">\n",
       "      <th></th>\n",
       "      <th>index</th>\n",
       "      <th>title</th>\n",
       "      <th>author</th>\n",
       "      <th>pub_date</th>\n",
       "      <th>pub</th>\n",
       "      <th>isbn_add_code</th>\n",
       "      <th>repub</th>\n",
       "      <th>isbn</th>\n",
       "      <th>ebook</th>\n",
       "      <th>price</th>\n",
       "      <th>SUBJECT</th>\n",
       "      <th>pub_year</th>\n",
       "      <th>pub_month</th>\n",
       "      <th>pub_day</th>\n",
       "    </tr>\n",
       "  </thead>\n",
       "  <tbody>\n",
       "    <tr>\n",
       "      <th>0</th>\n",
       "      <td>0</td>\n",
       "      <td>21세기 사회주의</td>\n",
       "      <td>지은이: 콜린 바커 ;옮긴이: 이수현</td>\n",
       "      <td>20130528.0</td>\n",
       "      <td>(노동자연대) 다함께</td>\n",
       "      <td>3300.0</td>\n",
       "      <td>(노동자연대) 다함께</td>\n",
       "      <td>9788996911043</td>\n",
       "      <td>N</td>\n",
       "      <td>3000</td>\n",
       "      <td>3.0</td>\n",
       "      <td>2013</td>\n",
       "      <td>05</td>\n",
       "      <td>28</td>\n",
       "    </tr>\n",
       "    <tr>\n",
       "      <th>1</th>\n",
       "      <td>0</td>\n",
       "      <td>질풍노도 연재 120</td>\n",
       "      <td>금강</td>\n",
       "      <td>20130701.0</td>\n",
       "      <td>문피아</td>\n",
       "      <td>5810.0</td>\n",
       "      <td>문피아</td>\n",
       "      <td>9791130515137</td>\n",
       "      <td>Y</td>\n",
       "      <td>100</td>\n",
       "      <td>8.0</td>\n",
       "      <td>2013</td>\n",
       "      <td>07</td>\n",
       "      <td>01</td>\n",
       "    </tr>\n",
       "    <tr>\n",
       "      <th>2</th>\n",
       "      <td>0</td>\n",
       "      <td>2013년 (중간시험 범위) 중간고사 기출예상문제 1-2</td>\n",
       "      <td>편집부</td>\n",
       "      <td>20130826.0</td>\n",
       "      <td>(주)천재교육</td>\n",
       "      <td>63370.0</td>\n",
       "      <td>(주)천재교육</td>\n",
       "      <td>9788926970546</td>\n",
       "      <td>N</td>\n",
       "      <td>10000</td>\n",
       "      <td>3.0</td>\n",
       "      <td>2013</td>\n",
       "      <td>08</td>\n",
       "      <td>26</td>\n",
       "    </tr>\n",
       "    <tr>\n",
       "      <th>3</th>\n",
       "      <td>0</td>\n",
       "      <td>부동산가격공시 및 토지취득보상법 판례해설</td>\n",
       "      <td>도승하</td>\n",
       "      <td>20130701.0</td>\n",
       "      <td>(주)리북스커뮤니티</td>\n",
       "      <td>13360.0</td>\n",
       "      <td>(주)리북스커뮤니티</td>\n",
       "      <td>9788964241110</td>\n",
       "      <td>N</td>\n",
       "      <td>18000</td>\n",
       "      <td>3.0</td>\n",
       "      <td>2013</td>\n",
       "      <td>07</td>\n",
       "      <td>01</td>\n",
       "    </tr>\n",
       "    <tr>\n",
       "      <th>4</th>\n",
       "      <td>0</td>\n",
       "      <td>장화홍련전 홍련에게 질투를 하여튼 못난 것들이 꼬라지하고는</td>\n",
       "      <td>신종훈</td>\n",
       "      <td>20130707.0</td>\n",
       "      <td>크리에이티브라이프</td>\n",
       "      <td>3810.0</td>\n",
       "      <td>크리에이티브라이프</td>\n",
       "      <td>9788997216048</td>\n",
       "      <td>N</td>\n",
       "      <td>3000</td>\n",
       "      <td>8.0</td>\n",
       "      <td>2013</td>\n",
       "      <td>07</td>\n",
       "      <td>07</td>\n",
       "    </tr>\n",
       "  </tbody>\n",
       "</table>\n",
       "</div>"
      ],
      "text/plain": [
       "   index                             title                author    pub_date  \\\n",
       "0      0                        21세기 사회주의   지은이: 콜린 바커 ;옮긴이: 이수현  20130528.0   \n",
       "1      0                       질풍노도 연재 120                    금강  20130701.0   \n",
       "2      0   2013년 (중간시험 범위) 중간고사 기출예상문제 1-2                   편집부  20130826.0   \n",
       "3      0            부동산가격공시 및 토지취득보상법 판례해설                   도승하  20130701.0   \n",
       "4      0  장화홍련전 홍련에게 질투를 하여튼 못난 것들이 꼬라지하고는                   신종훈  20130707.0   \n",
       "\n",
       "           pub isbn_add_code        repub           isbn ebook  price SUBJECT  \\\n",
       "0  (노동자연대) 다함께        3300.0  (노동자연대) 다함께  9788996911043     N   3000     3.0   \n",
       "1          문피아        5810.0          문피아  9791130515137     Y    100     8.0   \n",
       "2      (주)천재교육       63370.0      (주)천재교육  9788926970546     N  10000     3.0   \n",
       "3   (주)리북스커뮤니티       13360.0   (주)리북스커뮤니티  9788964241110     N  18000     3.0   \n",
       "4    크리에이티브라이프        3810.0    크리에이티브라이프  9788997216048     N   3000     8.0   \n",
       "\n",
       "  pub_year pub_month pub_day  \n",
       "0     2013        05      28  \n",
       "1     2013        07      01  \n",
       "2     2013        08      26  \n",
       "3     2013        07      01  \n",
       "4     2013        07      07  "
      ]
     },
     "execution_count": 34,
     "metadata": {},
     "output_type": "execute_result"
    }
   ],
   "source": [
    "df['pub_year'] = df['pub_date'].str.slice(0,4)\n",
    "df['pub_month'] = df['pub_date'].str.slice(4,6)\n",
    "df['pub_day'] = df['pub_date'].str.slice(6,8)\n",
    "\n",
    "df.head(5)"
   ]
  },
  {
   "cell_type": "markdown",
   "metadata": {},
   "source": [
    "SUBJECT 결측값 처리+.0 떼어내기"
   ]
  },
  {
   "cell_type": "code",
   "execution_count": 35,
   "metadata": {},
   "outputs": [
    {
     "data": {
      "text/plain": [
       "array([3.0, 8.0, 7.0, 'Unknown', 5.0, 9.0, 2.0, 1.0, 4.0, 6.0, '7', '3',\n",
       "       '8', '4', '5', '2', '9', '0', '6', '1', 't', 'e', 'T', 'E'],\n",
       "      dtype=object)"
      ]
     },
     "execution_count": 35,
     "metadata": {},
     "output_type": "execute_result"
    }
   ],
   "source": [
    "# df = data.copy()\n",
    "# '' 'Unknown'\n",
    "def custom(x):\n",
    "   # if np.isnan(str(x)):\n",
    "   #    return str('Unknown')\n",
    "   # else:\n",
    "   #  return x\n",
    "   # if len(str(x)) > 0 : \n",
    "   #    return x \n",
    "   # else:\n",
    "   #    return 'unknown'\n",
    "   if str(x) == '': # float타입은 null 값도 0.0으로 받음!\n",
    "      return 'Unknown'\n",
    "   else:\n",
    "      return x\n",
    "\n",
    "df[\"SUBJECT\"] = df.apply(lambda x: custom(x[\"SUBJECT\"]), axis = 1)\n",
    "df.SUBJECT.unique()"
   ]
  },
  {
   "cell_type": "code",
   "execution_count": 36,
   "metadata": {},
   "outputs": [
    {
     "data": {
      "text/plain": [
       "array(['3', '8', '7', 'Unknown', '5', '9', '2', '1', '4', '6', '0'],\n",
       "      dtype=object)"
      ]
     },
     "execution_count": 36,
     "metadata": {},
     "output_type": "execute_result"
    }
   ],
   "source": [
    "# 0~9 사이의 값. 이외에는 Unknown 으로 처리\n",
    "\n",
    "df.SUBJECT = df.SUBJECT.astype('str')\n",
    "df.SUBJECT = df.SUBJECT.str.replace('0.0', '0', regex = True)\n",
    "df.SUBJECT = df.SUBJECT.str.replace('1.0', '1', regex = True)\n",
    "df.SUBJECT = df.SUBJECT.str.replace('2.0', '2', regex = True)\n",
    "df.SUBJECT = df.SUBJECT.str.replace('3.0', '3', regex = True)\n",
    "df.SUBJECT = df.SUBJECT.str.replace('4.0', '4', regex = True)\n",
    "df.SUBJECT = df.SUBJECT.str.replace('5.0', '5', regex = True)\n",
    "df.SUBJECT = df.SUBJECT.str.replace('6.0', '6', regex = True)\n",
    "df.SUBJECT = df.SUBJECT.str.replace('7.0', '7', regex = True)\n",
    "df.SUBJECT = df.SUBJECT.str.replace('8.0', '8', regex = True)\n",
    "df.SUBJECT = df.SUBJECT.str.replace('9.0', '9', regex = True)\n",
    "df.SUBJECT = df.SUBJECT.str.replace('[eEtT]','Unknown', regex = True)\n",
    "# df.SUBJECT = df.SUBJECT.str.replace('','Unknown'): 안됨!!\n",
    "\n",
    "def custom(x):\n",
    "   if str(x) == '': # float타입은 null 값도 0.0으로 받음!\n",
    "      return 'Unknown'\n",
    "   else:\n",
    "      return x\n",
    "\n",
    "df[\"SUBJECT\"] = df.apply(lambda x: custom(x[\"SUBJECT\"]), axis = 1)\n",
    "df.SUBJECT.unique()"
   ]
  },
  {
   "cell_type": "code",
   "execution_count": 16,
   "metadata": {},
   "outputs": [
    {
     "data": {
      "text/plain": [
       "array(['3', '8', '7', '0', '5', '9', '2', '1', '4', '6', 'Unknown'],\n",
       "      dtype=object)"
      ]
     },
     "execution_count": 16,
     "metadata": {},
     "output_type": "execute_result"
    }
   ],
   "source": [
    "df.SUBJECT = df.SUBJECT.str.replace('[eEtT]','Unknown', regex = True)\n",
    "df.SUBJECT.unique()\n"
   ]
  },
  {
   "cell_type": "code",
   "execution_count": 17,
   "metadata": {},
   "outputs": [
    {
     "data": {
      "text/plain": [
       "index                                0\n",
       "title            디자인 패턴을 적용한 임베디드 시스템 \n",
       "author             엘레시아 화이트 지음 ;우정은 옮김\n",
       "pub_year                    20130601.0\n",
       "pub                           한빛미디어(주)\n",
       "isbn_add_code                  13000.0\n",
       "repub                              NaN\n",
       "isbn                     9788968480195\n",
       "ebook                                N\n",
       "price                            26000\n",
       "SUBJECT                            0.0\n",
       "Name: 10, dtype: object"
      ]
     },
     "execution_count": 17,
     "metadata": {},
     "output_type": "execute_result"
    }
   ],
   "source": [
    "data.iloc[10]"
   ]
  },
  {
   "cell_type": "code",
   "execution_count": 18,
   "metadata": {},
   "outputs": [
    {
     "data": {
      "text/plain": [
       "index                                0\n",
       "title            디자인 패턴을 적용한 임베디드 시스템 \n",
       "author             엘레시아 화이트 지음 ;우정은 옮김\n",
       "pub_date                    20130601.0\n",
       "pub                           한빛미디어(주)\n",
       "isbn_add_code                  13000.0\n",
       "repub                         한빛미디어(주)\n",
       "isbn                     9788968480195\n",
       "ebook                                N\n",
       "price                            26000\n",
       "SUBJECT                              0\n",
       "pub_year                          2013\n",
       "pub_month                           06\n",
       "pub_day                             01\n",
       "Name: 10, dtype: object"
      ]
     },
     "execution_count": 18,
     "metadata": {},
     "output_type": "execute_result"
    }
   ],
   "source": [
    "df.iloc[10]"
   ]
  },
  {
   "cell_type": "code",
   "execution_count": 21,
   "metadata": {},
   "outputs": [
    {
     "data": {
      "text/plain": [
       "array(['3', '8', '7', '0', '5', '9', '2', '1', '4', '6', 'Unknown'],\n",
       "      dtype=object)"
      ]
     },
     "execution_count": 21,
     "metadata": {},
     "output_type": "execute_result"
    }
   ],
   "source": [
    "df.SUBJECT.unique()"
   ]
  },
  {
   "cell_type": "code",
   "execution_count": 23,
   "metadata": {},
   "outputs": [
    {
     "data": {
      "text/plain": [
       "dtype('O')"
      ]
     },
     "execution_count": 23,
     "metadata": {},
     "output_type": "execute_result"
    }
   ],
   "source": [
    "df.SUBJECT.dtype"
   ]
  },
  {
   "cell_type": "code",
   "execution_count": 24,
   "metadata": {},
   "outputs": [],
   "source": [
    "# df = data.copy()\n",
    "# '' 'Unknown'\n",
    "def custom(x):\n",
    "   # if np.isnan(str(x)):\n",
    "   #    return str('Unknown')\n",
    "   # else:\n",
    "   #  return x\n",
    "   # if len(str(x)) > 0 : \n",
    "   #    return x \n",
    "   # else:\n",
    "   #    return 'unknown'\n",
    "   if str(x) == '0.0': # float타입은 null 값도 0.0으로 받음!\n",
    "      return 'Unknown'\n",
    "   else:\n",
    "      return x\n",
    "\n",
    "df[\"SUBJECT\"] = df.apply(lambda x: custom(x[\"SUBJECT\"]), axis = 1)"
   ]
  },
  {
   "cell_type": "code",
   "execution_count": 37,
   "metadata": {},
   "outputs": [
    {
     "data": {
      "text/plain": [
       "index                                0\n",
       "title            디자인 패턴을 적용한 임베디드 시스템 \n",
       "author             엘레시아 화이트 지음 ;우정은 옮김\n",
       "pub_date                    20130601.0\n",
       "pub                           한빛미디어(주)\n",
       "isbn_add_code                  13000.0\n",
       "repub                         한빛미디어(주)\n",
       "isbn                     9788968480195\n",
       "ebook                                N\n",
       "price                            26000\n",
       "SUBJECT                        Unknown\n",
       "pub_year                          2013\n",
       "pub_month                           06\n",
       "pub_day                             01\n",
       "Name: 10, dtype: object"
      ]
     },
     "execution_count": 37,
     "metadata": {},
     "output_type": "execute_result"
    }
   ],
   "source": [
    "df.iloc[10]"
   ]
  },
  {
   "cell_type": "code",
   "execution_count": 38,
   "metadata": {},
   "outputs": [
    {
     "data": {
      "text/plain": [
       "index                 0\n",
       "title                 0\n",
       "author                0\n",
       "pub_date              0\n",
       "pub                   0\n",
       "isbn_add_code    245935\n",
       "repub                 0\n",
       "isbn             229570\n",
       "ebook                 0\n",
       "price                 0\n",
       "SUBJECT               0\n",
       "pub_year              0\n",
       "pub_month             0\n",
       "pub_day               0\n",
       "dtype: int64"
      ]
     },
     "execution_count": 38,
     "metadata": {},
     "output_type": "execute_result"
    }
   ],
   "source": [
    "df.isnull().sum()"
   ]
  },
  {
   "cell_type": "markdown",
   "metadata": {},
   "source": [
    "isbn_add_code 중복값 처리"
   ]
  },
  {
   "cell_type": "code",
   "execution_count": 135,
   "metadata": {},
   "outputs": [],
   "source": [
    "df1 = df.copy()"
   ]
  },
  {
   "cell_type": "code",
   "execution_count": 136,
   "metadata": {},
   "outputs": [
    {
     "data": {
      "text/html": [
       "<div>\n",
       "<style scoped>\n",
       "    .dataframe tbody tr th:only-of-type {\n",
       "        vertical-align: middle;\n",
       "    }\n",
       "\n",
       "    .dataframe tbody tr th {\n",
       "        vertical-align: top;\n",
       "    }\n",
       "\n",
       "    .dataframe thead th {\n",
       "        text-align: right;\n",
       "    }\n",
       "</style>\n",
       "<table border=\"1\" class=\"dataframe\">\n",
       "  <thead>\n",
       "    <tr style=\"text-align: right;\">\n",
       "      <th></th>\n",
       "      <th>index</th>\n",
       "      <th>title</th>\n",
       "      <th>author</th>\n",
       "      <th>pub_date</th>\n",
       "      <th>pub</th>\n",
       "      <th>isbn_add_code</th>\n",
       "      <th>repub</th>\n",
       "      <th>isbn</th>\n",
       "      <th>ebook</th>\n",
       "      <th>price</th>\n",
       "      <th>SUBJECT</th>\n",
       "      <th>pub_year</th>\n",
       "      <th>pub_month</th>\n",
       "      <th>pub_day</th>\n",
       "    </tr>\n",
       "  </thead>\n",
       "  <tbody>\n",
       "    <tr>\n",
       "      <th>0</th>\n",
       "      <td>0</td>\n",
       "      <td>21세기 사회주의</td>\n",
       "      <td>지은이: 콜린 바커 ;옮긴이: 이수현</td>\n",
       "      <td>20130528.0</td>\n",
       "      <td>(노동자연대) 다함께</td>\n",
       "      <td>3300.0</td>\n",
       "      <td>(노동자연대) 다함께</td>\n",
       "      <td>9788996911043</td>\n",
       "      <td>N</td>\n",
       "      <td>3000</td>\n",
       "      <td>3</td>\n",
       "      <td>2013</td>\n",
       "      <td>05</td>\n",
       "      <td>28</td>\n",
       "    </tr>\n",
       "  </tbody>\n",
       "</table>\n",
       "</div>"
      ],
      "text/plain": [
       "   index       title                author    pub_date          pub  \\\n",
       "0      0  21세기 사회주의   지은이: 콜린 바커 ;옮긴이: 이수현  20130528.0  (노동자연대) 다함께   \n",
       "\n",
       "  isbn_add_code        repub           isbn ebook price SUBJECT pub_year  \\\n",
       "0        3300.0  (노동자연대) 다함께  9788996911043     N  3000       3     2013   \n",
       "\n",
       "  pub_month pub_day  \n",
       "0        05      28  "
      ]
     },
     "execution_count": 136,
     "metadata": {},
     "output_type": "execute_result"
    }
   ],
   "source": [
    "df1.head(1)"
   ]
  },
  {
   "cell_type": "code",
   "execution_count": 137,
   "metadata": {},
   "outputs": [
    {
     "data": {
      "text/plain": [
       "1765"
      ]
     },
     "execution_count": 137,
     "metadata": {},
     "output_type": "execute_result"
    }
   ],
   "source": [
    "df1.duplicated().sum() # all columns"
   ]
  },
  {
   "cell_type": "code",
   "execution_count": 139,
   "metadata": {},
   "outputs": [
    {
     "data": {
      "text/plain": [
       "(4434690, 14)"
      ]
     },
     "execution_count": 139,
     "metadata": {},
     "output_type": "execute_result"
    }
   ],
   "source": [
    "df1.shape"
   ]
  },
  {
   "cell_type": "code",
   "execution_count": 140,
   "metadata": {},
   "outputs": [
    {
     "data": {
      "text/plain": [
       "(4431560, 14)"
      ]
     },
     "execution_count": 140,
     "metadata": {},
     "output_type": "execute_result"
    }
   ],
   "source": [
    "df2 = df1.copy()\n",
    "df2 = df2.drop_duplicates(['title', 'author', 'pub_date', 'pub', 'isbn_add_code', 'isbn'], keep = 'first')\n",
    "df2.shape # 3130개 삭제 확인"
   ]
  },
  {
   "cell_type": "code",
   "execution_count": 141,
   "metadata": {},
   "outputs": [
    {
     "data": {
      "text/plain": [
       "False    4431560\n",
       "dtype: int64"
      ]
     },
     "execution_count": 141,
     "metadata": {},
     "output_type": "execute_result"
    }
   ],
   "source": [
    "df2.duplicated().value_counts()"
   ]
  },
  {
   "cell_type": "code",
   "execution_count": 120,
   "metadata": {},
   "outputs": [
    {
     "name": "stdout",
     "output_type": "stream",
     "text": [
      "<class 'pandas.core.frame.DataFrame'>\n",
      "Int64Index: 4431560 entries, 0 to 4434960\n",
      "Data columns (total 14 columns):\n",
      " #   Column         Dtype \n",
      "---  ------         ----- \n",
      " 0   index          int64 \n",
      " 1   title          object\n",
      " 2   author         object\n",
      " 3   pub_date       object\n",
      " 4   pub            object\n",
      " 5   isbn_add_code  object\n",
      " 6   repub          object\n",
      " 7   isbn           object\n",
      " 8   ebook          object\n",
      " 9   price          object\n",
      " 10  SUBJECT        object\n",
      " 11  pub_year       object\n",
      " 12  pub_month      object\n",
      " 13  pub_day        object\n",
      "dtypes: int64(1), object(13)\n",
      "memory usage: 507.2+ MB\n"
     ]
    }
   ],
   "source": [
    "df2.info()"
   ]
  },
  {
   "cell_type": "code",
   "execution_count": 121,
   "metadata": {},
   "outputs": [
    {
     "data": {
      "text/plain": [
       "0           3300.0\n",
       "1           5810.0\n",
       "2          63370.0\n",
       "3          13360.0\n",
       "4           3810.0\n",
       "            ...   \n",
       "4434956      03810\n",
       "4434957      03810\n",
       "4434958      03810\n",
       "4434959      03810\n",
       "4434960      03810\n",
       "Name: isbn_add_code, Length: 4431560, dtype: object"
      ]
     },
     "execution_count": 121,
     "metadata": {},
     "output_type": "execute_result"
    }
   ],
   "source": [
    "df2.isbn_add_code"
   ]
  },
  {
   "cell_type": "code",
   "execution_count": 132,
   "metadata": {},
   "outputs": [
    {
     "data": {
      "text/html": [
       "<div>\n",
       "<style scoped>\n",
       "    .dataframe tbody tr th:only-of-type {\n",
       "        vertical-align: middle;\n",
       "    }\n",
       "\n",
       "    .dataframe tbody tr th {\n",
       "        vertical-align: top;\n",
       "    }\n",
       "\n",
       "    .dataframe thead th {\n",
       "        text-align: right;\n",
       "    }\n",
       "</style>\n",
       "<table border=\"1\" class=\"dataframe\">\n",
       "  <thead>\n",
       "    <tr style=\"text-align: right;\">\n",
       "      <th></th>\n",
       "      <th>index</th>\n",
       "      <th>title</th>\n",
       "      <th>author</th>\n",
       "      <th>pub_date</th>\n",
       "      <th>pub</th>\n",
       "      <th>isbn_add_code</th>\n",
       "      <th>repub</th>\n",
       "      <th>isbn</th>\n",
       "      <th>ebook</th>\n",
       "      <th>price</th>\n",
       "      <th>SUBJECT</th>\n",
       "      <th>pub_year</th>\n",
       "      <th>pub_month</th>\n",
       "      <th>pub_day</th>\n",
       "    </tr>\n",
       "  </thead>\n",
       "  <tbody>\n",
       "    <tr>\n",
       "      <th>0</th>\n",
       "      <td>0</td>\n",
       "      <td>21세기 사회주의</td>\n",
       "      <td>지은이: 콜린 바커 ;옮긴이: 이수현</td>\n",
       "      <td>20130528.0</td>\n",
       "      <td>(노동자연대) 다함께</td>\n",
       "      <td>3300</td>\n",
       "      <td>(노동자연대) 다함께</td>\n",
       "      <td>9788996911043</td>\n",
       "      <td>N</td>\n",
       "      <td>3000</td>\n",
       "      <td>3</td>\n",
       "      <td>2013</td>\n",
       "      <td>05</td>\n",
       "      <td>28</td>\n",
       "    </tr>\n",
       "    <tr>\n",
       "      <th>1</th>\n",
       "      <td>0</td>\n",
       "      <td>질풍노도 연재 120</td>\n",
       "      <td>금강</td>\n",
       "      <td>20130701.0</td>\n",
       "      <td>문피아</td>\n",
       "      <td>5810</td>\n",
       "      <td>문피아</td>\n",
       "      <td>9791130515137</td>\n",
       "      <td>Y</td>\n",
       "      <td>100</td>\n",
       "      <td>8</td>\n",
       "      <td>2013</td>\n",
       "      <td>07</td>\n",
       "      <td>01</td>\n",
       "    </tr>\n",
       "    <tr>\n",
       "      <th>2</th>\n",
       "      <td>0</td>\n",
       "      <td>2013년 (중간시험 범위) 중간고사 기출예상문제 1-2</td>\n",
       "      <td>편집부</td>\n",
       "      <td>20130826.0</td>\n",
       "      <td>(주)천재교육</td>\n",
       "      <td>63370</td>\n",
       "      <td>(주)천재교육</td>\n",
       "      <td>9788926970546</td>\n",
       "      <td>N</td>\n",
       "      <td>10000</td>\n",
       "      <td>3</td>\n",
       "      <td>2013</td>\n",
       "      <td>08</td>\n",
       "      <td>26</td>\n",
       "    </tr>\n",
       "    <tr>\n",
       "      <th>3</th>\n",
       "      <td>0</td>\n",
       "      <td>부동산가격공시 및 토지취득보상법 판례해설</td>\n",
       "      <td>도승하</td>\n",
       "      <td>20130701.0</td>\n",
       "      <td>(주)리북스커뮤니티</td>\n",
       "      <td>13360</td>\n",
       "      <td>(주)리북스커뮤니티</td>\n",
       "      <td>9788964241110</td>\n",
       "      <td>N</td>\n",
       "      <td>18000</td>\n",
       "      <td>3</td>\n",
       "      <td>2013</td>\n",
       "      <td>07</td>\n",
       "      <td>01</td>\n",
       "    </tr>\n",
       "    <tr>\n",
       "      <th>4</th>\n",
       "      <td>0</td>\n",
       "      <td>장화홍련전 홍련에게 질투를 하여튼 못난 것들이 꼬라지하고는</td>\n",
       "      <td>신종훈</td>\n",
       "      <td>20130707.0</td>\n",
       "      <td>크리에이티브라이프</td>\n",
       "      <td>3810</td>\n",
       "      <td>크리에이티브라이프</td>\n",
       "      <td>9788997216048</td>\n",
       "      <td>N</td>\n",
       "      <td>3000</td>\n",
       "      <td>8</td>\n",
       "      <td>2013</td>\n",
       "      <td>07</td>\n",
       "      <td>07</td>\n",
       "    </tr>\n",
       "  </tbody>\n",
       "</table>\n",
       "</div>"
      ],
      "text/plain": [
       "   index                             title                author    pub_date  \\\n",
       "0      0                        21세기 사회주의   지은이: 콜린 바커 ;옮긴이: 이수현  20130528.0   \n",
       "1      0                       질풍노도 연재 120                    금강  20130701.0   \n",
       "2      0   2013년 (중간시험 범위) 중간고사 기출예상문제 1-2                   편집부  20130826.0   \n",
       "3      0            부동산가격공시 및 토지취득보상법 판례해설                   도승하  20130701.0   \n",
       "4      0  장화홍련전 홍련에게 질투를 하여튼 못난 것들이 꼬라지하고는                   신종훈  20130707.0   \n",
       "\n",
       "           pub isbn_add_code        repub           isbn ebook  price SUBJECT  \\\n",
       "0  (노동자연대) 다함께          3300  (노동자연대) 다함께  9788996911043     N   3000       3   \n",
       "1          문피아          5810          문피아  9791130515137     Y    100       8   \n",
       "2      (주)천재교육         63370      (주)천재교육  9788926970546     N  10000       3   \n",
       "3   (주)리북스커뮤니티         13360   (주)리북스커뮤니티  9788964241110     N  18000       3   \n",
       "4    크리에이티브라이프          3810    크리에이티브라이프  9788997216048     N   3000       8   \n",
       "\n",
       "  pub_year pub_month pub_day  \n",
       "0     2013        05      28  \n",
       "1     2013        07      01  \n",
       "2     2013        08      26  \n",
       "3     2013        07      01  \n",
       "4     2013        07      07  "
      ]
     },
     "execution_count": 132,
     "metadata": {},
     "output_type": "execute_result"
    }
   ],
   "source": [
    "df2.head(5)"
   ]
  },
  {
   "cell_type": "code",
   "execution_count": 124,
   "metadata": {},
   "outputs": [
    {
     "data": {
      "text/plain": [
       "array(['3300.0', '5810.0', '63370.0', ..., '54200', '63350', '3680'],\n",
       "      dtype=object)"
      ]
     },
     "execution_count": 124,
     "metadata": {},
     "output_type": "execute_result"
    }
   ],
   "source": [
    "df2.isbn_add_code = [re.sub('[^.0-9]', '', s) for s in df2.isbn_add_code]\n",
    "df2.isbn_add_code.unique()"
   ]
  },
  {
   "cell_type": "code",
   "execution_count": 125,
   "metadata": {},
   "outputs": [
    {
     "data": {
      "text/plain": [
       "array([ 3300.,  5810., 63370., ..., 98381.,  3088., 13021.])"
      ]
     },
     "execution_count": 125,
     "metadata": {},
     "output_type": "execute_result"
    }
   ],
   "source": [
    "df2.isbn_add_code = pd.to_numeric(df2.isbn_add_code)\n",
    "df2.isbn_add_code.unique()"
   ]
  },
  {
   "cell_type": "code",
   "execution_count": null,
   "metadata": {},
   "outputs": [],
   "source": [
    "# 영동님 레퍼런스 (수정하면 됨)\n",
    "def custom(x):\n",
    "   if '' in  str(x):\n",
    "      return 'Unknown'\n",
    "   else:\n",
    "    return x\n",
    "\n",
    "df[\"isbn_add_code\"] = df.apply(lambda x: custom(x[\"isbn_add_code\"]), axis = 1)"
   ]
  },
  {
   "cell_type": "code",
   "execution_count": 87,
   "metadata": {},
   "outputs": [
    {
     "data": {
      "text/html": [
       "<div>\n",
       "<style scoped>\n",
       "    .dataframe tbody tr th:only-of-type {\n",
       "        vertical-align: middle;\n",
       "    }\n",
       "\n",
       "    .dataframe tbody tr th {\n",
       "        vertical-align: top;\n",
       "    }\n",
       "\n",
       "    .dataframe thead th {\n",
       "        text-align: right;\n",
       "    }\n",
       "</style>\n",
       "<table border=\"1\" class=\"dataframe\">\n",
       "  <thead>\n",
       "    <tr style=\"text-align: right;\">\n",
       "      <th></th>\n",
       "      <th>index</th>\n",
       "      <th>title</th>\n",
       "      <th>author</th>\n",
       "      <th>pub_date</th>\n",
       "      <th>pub</th>\n",
       "      <th>isbn_add_code</th>\n",
       "      <th>repub</th>\n",
       "      <th>isbn</th>\n",
       "      <th>ebook</th>\n",
       "      <th>price</th>\n",
       "      <th>SUBJECT</th>\n",
       "      <th>pub_year</th>\n",
       "      <th>pub_month</th>\n",
       "      <th>pub_day</th>\n",
       "    </tr>\n",
       "  </thead>\n",
       "  <tbody>\n",
       "    <tr>\n",
       "      <th>24868</th>\n",
       "      <td>0</td>\n",
       "      <td>My Mentor Plus 3</td>\n",
       "      <td>Mentor Holdings</td>\n",
       "      <td>20130301.0</td>\n",
       "      <td>(주)멘토홀딩스</td>\n",
       "      <td>68740.0</td>\n",
       "      <td>(주)멘토홀딩스</td>\n",
       "      <td>9788998005788</td>\n",
       "      <td>N</td>\n",
       "      <td>16000(세트가)</td>\n",
       "      <td>7</td>\n",
       "      <td>2013</td>\n",
       "      <td>03</td>\n",
       "      <td>01</td>\n",
       "    </tr>\n",
       "    <tr>\n",
       "      <th>24871</th>\n",
       "      <td>0</td>\n",
       "      <td>My Mentor Plus 3</td>\n",
       "      <td>Mentor Holdings</td>\n",
       "      <td>20130301.0</td>\n",
       "      <td>(주)멘토홀딩스</td>\n",
       "      <td>nan</td>\n",
       "      <td>(주)멘토홀딩스</td>\n",
       "      <td>NaN</td>\n",
       "      <td>N</td>\n",
       "      <td>16000(세트가)</td>\n",
       "      <td>7</td>\n",
       "      <td>2013</td>\n",
       "      <td>03</td>\n",
       "      <td>01</td>\n",
       "    </tr>\n",
       "    <tr>\n",
       "      <th>24876</th>\n",
       "      <td>0</td>\n",
       "      <td>My Mentor Plus 3</td>\n",
       "      <td>Mentor Holdings</td>\n",
       "      <td>20130301.0</td>\n",
       "      <td>(주)멘토홀딩스</td>\n",
       "      <td>nan</td>\n",
       "      <td>(주)멘토홀딩스</td>\n",
       "      <td>NaN</td>\n",
       "      <td>N</td>\n",
       "      <td>16000(세트가)</td>\n",
       "      <td>7</td>\n",
       "      <td>2013</td>\n",
       "      <td>03</td>\n",
       "      <td>01</td>\n",
       "    </tr>\n",
       "  </tbody>\n",
       "</table>\n",
       "</div>"
      ],
      "text/plain": [
       "       index             title           author    pub_date       pub  \\\n",
       "24868      0  My Mentor Plus 3  Mentor Holdings  20130301.0  (주)멘토홀딩스   \n",
       "24871      0  My Mentor Plus 3  Mentor Holdings  20130301.0  (주)멘토홀딩스   \n",
       "24876      0  My Mentor Plus 3  Mentor Holdings  20130301.0  (주)멘토홀딩스   \n",
       "\n",
       "      isbn_add_code     repub           isbn ebook       price SUBJECT  \\\n",
       "24868       68740.0  (주)멘토홀딩스  9788998005788     N  16000(세트가)       7   \n",
       "24871           nan  (주)멘토홀딩스            NaN     N  16000(세트가)       7   \n",
       "24876           nan  (주)멘토홀딩스            NaN     N  16000(세트가)       7   \n",
       "\n",
       "      pub_year pub_month pub_day  \n",
       "24868     2013        03      01  \n",
       "24871     2013        03      01  \n",
       "24876     2013        03      01  "
      ]
     },
     "execution_count": 87,
     "metadata": {},
     "output_type": "execute_result"
    }
   ],
   "source": [
    "df1[df1.title == 'My Mentor Plus 3'] # title, author, pub_date, isbn_add_code, repub, isbn 기준으로 중복값 제거하기로 함"
   ]
  },
  {
   "cell_type": "code",
   "execution_count": 90,
   "metadata": {},
   "outputs": [
    {
     "data": {
      "text/html": [
       "<div>\n",
       "<style scoped>\n",
       "    .dataframe tbody tr th:only-of-type {\n",
       "        vertical-align: middle;\n",
       "    }\n",
       "\n",
       "    .dataframe tbody tr th {\n",
       "        vertical-align: top;\n",
       "    }\n",
       "\n",
       "    .dataframe thead th {\n",
       "        text-align: right;\n",
       "    }\n",
       "</style>\n",
       "<table border=\"1\" class=\"dataframe\">\n",
       "  <thead>\n",
       "    <tr style=\"text-align: right;\">\n",
       "      <th></th>\n",
       "      <th>index</th>\n",
       "      <th>title</th>\n",
       "      <th>author</th>\n",
       "      <th>pub_date</th>\n",
       "      <th>pub</th>\n",
       "      <th>isbn_add_code</th>\n",
       "      <th>repub</th>\n",
       "      <th>isbn</th>\n",
       "      <th>ebook</th>\n",
       "      <th>price</th>\n",
       "      <th>SUBJECT</th>\n",
       "      <th>pub_year</th>\n",
       "      <th>pub_month</th>\n",
       "      <th>pub_day</th>\n",
       "    </tr>\n",
       "  </thead>\n",
       "  <tbody>\n",
       "    <tr>\n",
       "      <th>24876</th>\n",
       "      <td>0</td>\n",
       "      <td>My Mentor Plus 3</td>\n",
       "      <td>Mentor Holdings</td>\n",
       "      <td>20130301.0</td>\n",
       "      <td>(주)멘토홀딩스</td>\n",
       "      <td>nan</td>\n",
       "      <td>(주)멘토홀딩스</td>\n",
       "      <td>NaN</td>\n",
       "      <td>N</td>\n",
       "      <td>16000(세트가)</td>\n",
       "      <td>7</td>\n",
       "      <td>2013</td>\n",
       "      <td>03</td>\n",
       "      <td>01</td>\n",
       "    </tr>\n",
       "    <tr>\n",
       "      <th>28953</th>\n",
       "      <td>0</td>\n",
       "      <td>엉뚱 해결사 맥스의 부자 소동</td>\n",
       "      <td>트리나 위베 글 ;헬렌 플룩 그림 ; 김상일 옮김</td>\n",
       "      <td>20090301.0</td>\n",
       "      <td>(도서출판)키다리</td>\n",
       "      <td>74840.0</td>\n",
       "      <td>(도서출판)키다리</td>\n",
       "      <td>9788992365192</td>\n",
       "      <td>N</td>\n",
       "      <td>8500</td>\n",
       "      <td>8</td>\n",
       "      <td>2009</td>\n",
       "      <td>03</td>\n",
       "      <td>01</td>\n",
       "    </tr>\n",
       "    <tr>\n",
       "      <th>31538</th>\n",
       "      <td>0</td>\n",
       "      <td>알프레드 밴드 교본 Sound Innovations, Bb TRUMPET, BOOK 1</td>\n",
       "      <td>Robert Sheldon, Peter Boonshaft, Dave Black, B...</td>\n",
       "      <td>20130320.0</td>\n",
       "      <td>도서출판(주)상지원</td>\n",
       "      <td>8670.0</td>\n",
       "      <td>도서출판(주)상지원</td>\n",
       "      <td>9788982717727</td>\n",
       "      <td>N</td>\n",
       "      <td>10000</td>\n",
       "      <td>6</td>\n",
       "      <td>2013</td>\n",
       "      <td>03</td>\n",
       "      <td>20</td>\n",
       "    </tr>\n",
       "    <tr>\n",
       "      <th>34456</th>\n",
       "      <td>0</td>\n",
       "      <td>애가</td>\n",
       "      <td>이두금</td>\n",
       "      <td>20040205.0</td>\n",
       "      <td>(도서출판)푸른터</td>\n",
       "      <td>nan</td>\n",
       "      <td>(도서출판)푸른터</td>\n",
       "      <td>NaN</td>\n",
       "      <td>N</td>\n",
       "      <td>8500</td>\n",
       "      <td>8</td>\n",
       "      <td>2004</td>\n",
       "      <td>02</td>\n",
       "      <td>05</td>\n",
       "    </tr>\n",
       "    <tr>\n",
       "      <th>34457</th>\n",
       "      <td>0</td>\n",
       "      <td>애가</td>\n",
       "      <td>이두금</td>\n",
       "      <td>20040205.0</td>\n",
       "      <td>(도서출판)푸른터</td>\n",
       "      <td>nan</td>\n",
       "      <td>(도서출판)푸른터</td>\n",
       "      <td>NaN</td>\n",
       "      <td>N</td>\n",
       "      <td>8500</td>\n",
       "      <td>8</td>\n",
       "      <td>2004</td>\n",
       "      <td>02</td>\n",
       "      <td>05</td>\n",
       "    </tr>\n",
       "    <tr>\n",
       "      <th>...</th>\n",
       "      <td>...</td>\n",
       "      <td>...</td>\n",
       "      <td>...</td>\n",
       "      <td>...</td>\n",
       "      <td>...</td>\n",
       "      <td>...</td>\n",
       "      <td>...</td>\n",
       "      <td>...</td>\n",
       "      <td>...</td>\n",
       "      <td>...</td>\n",
       "      <td>...</td>\n",
       "      <td>...</td>\n",
       "      <td>...</td>\n",
       "      <td>...</td>\n",
       "    </tr>\n",
       "    <tr>\n",
       "      <th>4432177</th>\n",
       "      <td>0</td>\n",
       "      <td>RuleBreakers 지구과학1 수능대비 모의고사 Season1(4회분)</td>\n",
       "      <td>저자 : 이의연</td>\n",
       "      <td>20220930.0</td>\n",
       "      <td>(주식회사) 룰브레이커스</td>\n",
       "      <td>nan</td>\n",
       "      <td>(주식회사) 룰브레이커스</td>\n",
       "      <td>NaN</td>\n",
       "      <td>N</td>\n",
       "      <td>22000</td>\n",
       "      <td>4</td>\n",
       "      <td>2022</td>\n",
       "      <td>09</td>\n",
       "      <td>30</td>\n",
       "    </tr>\n",
       "    <tr>\n",
       "      <th>4432178</th>\n",
       "      <td>0</td>\n",
       "      <td>RuleBreakers 생명과학2 수능대비 모의고사 Season1(4회분)</td>\n",
       "      <td>저자 : 정규용</td>\n",
       "      <td>20220930.0</td>\n",
       "      <td>(주식회사) 룰브레이커스</td>\n",
       "      <td>nan</td>\n",
       "      <td>(주식회사) 룰브레이커스</td>\n",
       "      <td>NaN</td>\n",
       "      <td>N</td>\n",
       "      <td>27000</td>\n",
       "      <td>4</td>\n",
       "      <td>2022</td>\n",
       "      <td>09</td>\n",
       "      <td>30</td>\n",
       "    </tr>\n",
       "    <tr>\n",
       "      <th>4432179</th>\n",
       "      <td>0</td>\n",
       "      <td>RuleBreakers 생명과학1 수능대비 모의고사 Season1(4회분)</td>\n",
       "      <td>저자 : 장연수</td>\n",
       "      <td>20220930.0</td>\n",
       "      <td>(주식회사) 룰브레이커스</td>\n",
       "      <td>nan</td>\n",
       "      <td>(주식회사) 룰브레이커스</td>\n",
       "      <td>NaN</td>\n",
       "      <td>N</td>\n",
       "      <td>22000</td>\n",
       "      <td>4</td>\n",
       "      <td>2022</td>\n",
       "      <td>09</td>\n",
       "      <td>30</td>\n",
       "    </tr>\n",
       "    <tr>\n",
       "      <th>4432180</th>\n",
       "      <td>0</td>\n",
       "      <td>RuleBreakers 화학2 수능대비 모의고사 Season1(4회분)</td>\n",
       "      <td>저자 : 김성배</td>\n",
       "      <td>20220930.0</td>\n",
       "      <td>(주식회사) 룰브레이커스</td>\n",
       "      <td>nan</td>\n",
       "      <td>(주식회사) 룰브레이커스</td>\n",
       "      <td>NaN</td>\n",
       "      <td>N</td>\n",
       "      <td>27000</td>\n",
       "      <td>4</td>\n",
       "      <td>2022</td>\n",
       "      <td>09</td>\n",
       "      <td>30</td>\n",
       "    </tr>\n",
       "    <tr>\n",
       "      <th>4432181</th>\n",
       "      <td>0</td>\n",
       "      <td>RuleBreakers 화학1 수능대비 모의고사 Season1(4회분)</td>\n",
       "      <td>저자 : 박민석</td>\n",
       "      <td>20220930.0</td>\n",
       "      <td>(주식회사) 룰브레이커스</td>\n",
       "      <td>nan</td>\n",
       "      <td>(주식회사) 룰브레이커스</td>\n",
       "      <td>NaN</td>\n",
       "      <td>N</td>\n",
       "      <td>22000</td>\n",
       "      <td>4</td>\n",
       "      <td>2022</td>\n",
       "      <td>09</td>\n",
       "      <td>30</td>\n",
       "    </tr>\n",
       "  </tbody>\n",
       "</table>\n",
       "<p>3130 rows × 14 columns</p>\n",
       "</div>"
      ],
      "text/plain": [
       "         index                                             title  \\\n",
       "24876        0                                  My Mentor Plus 3   \n",
       "28953        0                                  엉뚱 해결사 맥스의 부자 소동   \n",
       "31538        0  알프레드 밴드 교본 Sound Innovations, Bb TRUMPET, BOOK 1   \n",
       "34456        0                                                애가   \n",
       "34457        0                                                애가   \n",
       "...        ...                                               ...   \n",
       "4432177      0         RuleBreakers 지구과학1 수능대비 모의고사 Season1(4회분)   \n",
       "4432178      0         RuleBreakers 생명과학2 수능대비 모의고사 Season1(4회분)   \n",
       "4432179      0         RuleBreakers 생명과학1 수능대비 모의고사 Season1(4회분)   \n",
       "4432180      0           RuleBreakers 화학2 수능대비 모의고사 Season1(4회분)   \n",
       "4432181      0           RuleBreakers 화학1 수능대비 모의고사 Season1(4회분)   \n",
       "\n",
       "                                                    author    pub_date  \\\n",
       "24876                                      Mentor Holdings  20130301.0   \n",
       "28953                          트리나 위베 글 ;헬렌 플룩 그림 ; 김상일 옮김  20090301.0   \n",
       "31538    Robert Sheldon, Peter Boonshaft, Dave Black, B...  20130320.0   \n",
       "34456                                                  이두금  20040205.0   \n",
       "34457                                                  이두금  20040205.0   \n",
       "...                                                    ...         ...   \n",
       "4432177                                           저자 : 이의연  20220930.0   \n",
       "4432178                                           저자 : 정규용  20220930.0   \n",
       "4432179                                           저자 : 장연수  20220930.0   \n",
       "4432180                                           저자 : 김성배  20220930.0   \n",
       "4432181                                           저자 : 박민석  20220930.0   \n",
       "\n",
       "                   pub isbn_add_code          repub           isbn ebook  \\\n",
       "24876         (주)멘토홀딩스           nan       (주)멘토홀딩스            NaN     N   \n",
       "28953        (도서출판)키다리       74840.0      (도서출판)키다리  9788992365192     N   \n",
       "31538       도서출판(주)상지원        8670.0     도서출판(주)상지원  9788982717727     N   \n",
       "34456        (도서출판)푸른터           nan      (도서출판)푸른터            NaN     N   \n",
       "34457        (도서출판)푸른터           nan      (도서출판)푸른터            NaN     N   \n",
       "...                ...           ...            ...            ...   ...   \n",
       "4432177  (주식회사) 룰브레이커스           nan  (주식회사) 룰브레이커스            NaN     N   \n",
       "4432178  (주식회사) 룰브레이커스           nan  (주식회사) 룰브레이커스            NaN     N   \n",
       "4432179  (주식회사) 룰브레이커스           nan  (주식회사) 룰브레이커스            NaN     N   \n",
       "4432180  (주식회사) 룰브레이커스           nan  (주식회사) 룰브레이커스            NaN     N   \n",
       "4432181  (주식회사) 룰브레이커스           nan  (주식회사) 룰브레이커스            NaN     N   \n",
       "\n",
       "              price SUBJECT pub_year pub_month pub_day  \n",
       "24876    16000(세트가)       7     2013        03      01  \n",
       "28953          8500       8     2009        03      01  \n",
       "31538         10000       6     2013        03      20  \n",
       "34456          8500       8     2004        02      05  \n",
       "34457          8500       8     2004        02      05  \n",
       "...             ...     ...      ...       ...     ...  \n",
       "4432177       22000       4     2022        09      30  \n",
       "4432178       27000       4     2022        09      30  \n",
       "4432179       22000       4     2022        09      30  \n",
       "4432180       27000       4     2022        09      30  \n",
       "4432181       22000       4     2022        09      30  \n",
       "\n",
       "[3130 rows x 14 columns]"
      ]
     },
     "execution_count": 90,
     "metadata": {},
     "output_type": "execute_result"
    }
   ],
   "source": [
    "df1[df1.duplicated(['title', 'author', 'pub_date', 'pub', 'isbn_add_code', 'isbn'])]"
   ]
  },
  {
   "cell_type": "code",
   "execution_count": 142,
   "metadata": {},
   "outputs": [],
   "source": [
    "df2.to_csv(r'C:\\Users\\maeve\\AIB 14\\Section6\\Codestates Project 2\\data\\joongdo_notyet.csv')\n",
    "\n",
    "# 종일 붙잡고도 미완으로 던져서 송구합니다하하하"
   ]
  }
 ],
 "metadata": {
  "kernelspec": {
   "display_name": "Python 3",
   "language": "python",
   "name": "python3"
  },
  "language_info": {
   "codemirror_mode": {
    "name": "ipython",
    "version": 3
   },
   "file_extension": ".py",
   "mimetype": "text/x-python",
   "name": "python",
   "nbconvert_exporter": "python",
   "pygments_lexer": "ipython3",
   "version": "3.10.4 (tags/v3.10.4:9d38120, Mar 23 2022, 23:13:41) [MSC v.1929 64 bit (AMD64)]"
  },
  "orig_nbformat": 4,
  "vscode": {
   "interpreter": {
    "hash": "9230073dc5a1614dca56ec41ce65ff2e411c2af0af7b432d522b72ae9140b43a"
   }
  }
 },
 "nbformat": 4,
 "nbformat_minor": 2
}
