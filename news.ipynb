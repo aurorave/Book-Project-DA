{
 "cells": [
  {
   "cell_type": "code",
   "execution_count": 1,
   "metadata": {},
   "outputs": [],
   "source": [
    "import pandas as pd\n",
    "import numpy as np\n",
    "import re\n",
    "import datetime"
   ]
  },
  {
   "cell_type": "code",
   "execution_count": 2,
   "metadata": {},
   "outputs": [
    {
     "data": {
      "text/plain": [
       "(730764, 4)"
      ]
     },
     "execution_count": 2,
     "metadata": {},
     "output_type": "execute_result"
    }
   ],
   "source": [
    "df_c = pd.read_csv('chosun_new.csv')\n",
    "df_c.shape"
   ]
  },
  {
   "cell_type": "code",
   "execution_count": 3,
   "metadata": {},
   "outputs": [
    {
     "data": {
      "text/plain": [
       "(316609, 4)"
      ]
     },
     "execution_count": 3,
     "metadata": {},
     "output_type": "execute_result"
    }
   ],
   "source": [
    "df_d = pd.read_csv('donga_new.csv')\n",
    "df_d.shape"
   ]
  },
  {
   "cell_type": "code",
   "execution_count": 6,
   "metadata": {},
   "outputs": [
    {
     "data": {
      "text/plain": [
       "(1944874, 4)"
      ]
     },
     "execution_count": 6,
     "metadata": {},
     "output_type": "execute_result"
    }
   ],
   "source": [
    "df_j = pd.read_csv('joongang_new.csv')\n",
    "df_j.shape"
   ]
  },
  {
   "cell_type": "code",
   "execution_count": 7,
   "metadata": {},
   "outputs": [
    {
     "data": {
      "text/plain": [
       "(971280, 4)"
      ]
     },
     "execution_count": 7,
     "metadata": {},
     "output_type": "execute_result"
    }
   ],
   "source": [
    "df_k = pd.read_csv('khan_new.csv')\n",
    "df_k.shape"
   ]
  },
  {
   "cell_type": "code",
   "execution_count": 8,
   "metadata": {},
   "outputs": [
    {
     "data": {
      "text/plain": [
       "(3963527, 4)"
      ]
     },
     "execution_count": 8,
     "metadata": {},
     "output_type": "execute_result"
    }
   ],
   "source": [
    "final = pd.concat([df_c,df_d,df_j,df_k])\n",
    "final.shape"
   ]
  },
  {
   "cell_type": "code",
   "execution_count": 12,
   "metadata": {},
   "outputs": [
    {
     "data": {
      "text/html": [
       "<div>\n",
       "<style scoped>\n",
       "    .dataframe tbody tr th:only-of-type {\n",
       "        vertical-align: middle;\n",
       "    }\n",
       "\n",
       "    .dataframe tbody tr th {\n",
       "        vertical-align: top;\n",
       "    }\n",
       "\n",
       "    .dataframe thead th {\n",
       "        text-align: right;\n",
       "    }\n",
       "</style>\n",
       "<table border=\"1\" class=\"dataframe\">\n",
       "  <thead>\n",
       "    <tr style=\"text-align: right;\">\n",
       "      <th></th>\n",
       "      <th>Unnamed: 0</th>\n",
       "      <th>title</th>\n",
       "      <th>date</th>\n",
       "      <th>company</th>\n",
       "    </tr>\n",
       "  </thead>\n",
       "  <tbody>\n",
       "    <tr>\n",
       "      <th>0</th>\n",
       "      <td>0</td>\n",
       "      <td>경제전문가·일반인 긴급 여론조사;“구조조정만이 살길”</td>\n",
       "      <td>2001-01-01</td>\n",
       "      <td>chosun</td>\n",
       "    </tr>\n",
       "    <tr>\n",
       "      <th>1</th>\n",
       "      <td>1</td>\n",
       "      <td>◇희망의 2001년… 다시 한번 뛰어보자;</td>\n",
       "      <td>2001-01-01</td>\n",
       "      <td>chosun</td>\n",
       "    </tr>\n",
       "    <tr>\n",
       "      <th>2</th>\n",
       "      <td>2</td>\n",
       "      <td>클린턴이 임명한 테닛;부시, CIA국장 유임시킬듯;</td>\n",
       "      <td>2001-01-01</td>\n",
       "      <td>chosun</td>\n",
       "    </tr>\n",
       "    <tr>\n",
       "      <th>3</th>\n",
       "      <td>3</td>\n",
       "      <td>민주의원 이적 새해정국 파문;3명 자민련 입당… 교섭단체 가능 야 강력반발… 영수회...</td>\n",
       "      <td>2001-01-01</td>\n",
       "      <td>chosun</td>\n",
       "    </tr>\n",
       "    <tr>\n",
       "      <th>4</th>\n",
       "      <td>4</td>\n",
       "      <td>공적자금 투입 4개은 금융노조 전격 탈퇴;한빛·서울도 구조조정 동의</td>\n",
       "      <td>2001-01-01</td>\n",
       "      <td>chosun</td>\n",
       "    </tr>\n",
       "  </tbody>\n",
       "</table>\n",
       "</div>"
      ],
      "text/plain": [
       "   Unnamed: 0                                              title        date  \\\n",
       "0           0                      경제전문가·일반인 긴급 여론조사;“구조조정만이 살길”  2001-01-01   \n",
       "1           1                            ◇희망의 2001년… 다시 한번 뛰어보자;  2001-01-01   \n",
       "2           2                       클린턴이 임명한 테닛;부시, CIA국장 유임시킬듯;  2001-01-01   \n",
       "3           3  민주의원 이적 새해정국 파문;3명 자민련 입당… 교섭단체 가능 야 강력반발… 영수회...  2001-01-01   \n",
       "4           4              공적자금 투입 4개은 금융노조 전격 탈퇴;한빛·서울도 구조조정 동의  2001-01-01   \n",
       "\n",
       "  company  \n",
       "0  chosun  \n",
       "1  chosun  \n",
       "2  chosun  \n",
       "3  chosun  \n",
       "4  chosun  "
      ]
     },
     "execution_count": 12,
     "metadata": {},
     "output_type": "execute_result"
    }
   ],
   "source": [
    "final.head()\n"
   ]
  },
  {
   "cell_type": "code",
   "execution_count": 11,
   "metadata": {},
   "outputs": [
    {
     "data": {
      "text/html": [
       "<div>\n",
       "<style scoped>\n",
       "    .dataframe tbody tr th:only-of-type {\n",
       "        vertical-align: middle;\n",
       "    }\n",
       "\n",
       "    .dataframe tbody tr th {\n",
       "        vertical-align: top;\n",
       "    }\n",
       "\n",
       "    .dataframe thead th {\n",
       "        text-align: right;\n",
       "    }\n",
       "</style>\n",
       "<table border=\"1\" class=\"dataframe\">\n",
       "  <thead>\n",
       "    <tr style=\"text-align: right;\">\n",
       "      <th></th>\n",
       "      <th>Unnamed: 0</th>\n",
       "      <th>title</th>\n",
       "      <th>date</th>\n",
       "      <th>company</th>\n",
       "    </tr>\n",
       "  </thead>\n",
       "  <tbody>\n",
       "    <tr>\n",
       "      <th>971275</th>\n",
       "      <td>1797631</td>\n",
       "      <td>상위 20% 소득 2.0% 줄어들 때 하위 20% 6.5% 줄었다</td>\n",
       "      <td>2022-11-21</td>\n",
       "      <td>khan</td>\n",
       "    </tr>\n",
       "    <tr>\n",
       "      <th>971276</th>\n",
       "      <td>1797632</td>\n",
       "      <td>가계소득 하위 20%, 지출 절반이 ‘식비’···먹고살기 힘들어졌다</td>\n",
       "      <td>2022-11-21</td>\n",
       "      <td>khan</td>\n",
       "    </tr>\n",
       "    <tr>\n",
       "      <th>971277</th>\n",
       "      <td>1797633</td>\n",
       "      <td>APEC 간 한덕수 총리 “빈살만, 윤 대통령 만남 좋았다더라”</td>\n",
       "      <td>2022-11-21</td>\n",
       "      <td>khan</td>\n",
       "    </tr>\n",
       "    <tr>\n",
       "      <th>971278</th>\n",
       "      <td>1797641</td>\n",
       "      <td>[조광희의 아이러니] 이태원 참사에서 되풀이되는 한국증후군</td>\n",
       "      <td>2022-11-21</td>\n",
       "      <td>khan</td>\n",
       "    </tr>\n",
       "    <tr>\n",
       "      <th>971279</th>\n",
       "      <td>1797646</td>\n",
       "      <td>개막식 빛낸 BTS 정국···사상 첫 중동·겨울 월드컵 '킥오프'</td>\n",
       "      <td>2022-11-21</td>\n",
       "      <td>khan</td>\n",
       "    </tr>\n",
       "  </tbody>\n",
       "</table>\n",
       "</div>"
      ],
      "text/plain": [
       "        Unnamed: 0                                  title        date company\n",
       "971275     1797631   상위 20% 소득 2.0% 줄어들 때 하위 20% 6.5% 줄었다  2022-11-21    khan\n",
       "971276     1797632  가계소득 하위 20%, 지출 절반이 ‘식비’···먹고살기 힘들어졌다  2022-11-21    khan\n",
       "971277     1797633    APEC 간 한덕수 총리 “빈살만, 윤 대통령 만남 좋았다더라”  2022-11-21    khan\n",
       "971278     1797641       [조광희의 아이러니] 이태원 참사에서 되풀이되는 한국증후군  2022-11-21    khan\n",
       "971279     1797646   개막식 빛낸 BTS 정국···사상 첫 중동·겨울 월드컵 '킥오프'  2022-11-21    khan"
      ]
     },
     "execution_count": 11,
     "metadata": {},
     "output_type": "execute_result"
    }
   ],
   "source": [
    "final.tail()"
   ]
  },
  {
   "cell_type": "code",
   "execution_count": 13,
   "metadata": {},
   "outputs": [
    {
     "data": {
      "text/html": [
       "<div>\n",
       "<style scoped>\n",
       "    .dataframe tbody tr th:only-of-type {\n",
       "        vertical-align: middle;\n",
       "    }\n",
       "\n",
       "    .dataframe tbody tr th {\n",
       "        vertical-align: top;\n",
       "    }\n",
       "\n",
       "    .dataframe thead th {\n",
       "        text-align: right;\n",
       "    }\n",
       "</style>\n",
       "<table border=\"1\" class=\"dataframe\">\n",
       "  <thead>\n",
       "    <tr style=\"text-align: right;\">\n",
       "      <th></th>\n",
       "      <th>title</th>\n",
       "      <th>date</th>\n",
       "      <th>company</th>\n",
       "    </tr>\n",
       "  </thead>\n",
       "  <tbody>\n",
       "    <tr>\n",
       "      <th>0</th>\n",
       "      <td>경제전문가·일반인 긴급 여론조사;“구조조정만이 살길”</td>\n",
       "      <td>2001-01-01</td>\n",
       "      <td>chosun</td>\n",
       "    </tr>\n",
       "    <tr>\n",
       "      <th>1</th>\n",
       "      <td>◇희망의 2001년… 다시 한번 뛰어보자;</td>\n",
       "      <td>2001-01-01</td>\n",
       "      <td>chosun</td>\n",
       "    </tr>\n",
       "    <tr>\n",
       "      <th>2</th>\n",
       "      <td>클린턴이 임명한 테닛;부시, CIA국장 유임시킬듯;</td>\n",
       "      <td>2001-01-01</td>\n",
       "      <td>chosun</td>\n",
       "    </tr>\n",
       "    <tr>\n",
       "      <th>3</th>\n",
       "      <td>민주의원 이적 새해정국 파문;3명 자민련 입당… 교섭단체 가능 야 강력반발… 영수회...</td>\n",
       "      <td>2001-01-01</td>\n",
       "      <td>chosun</td>\n",
       "    </tr>\n",
       "    <tr>\n",
       "      <th>4</th>\n",
       "      <td>공적자금 투입 4개은 금융노조 전격 탈퇴;한빛·서울도 구조조정 동의</td>\n",
       "      <td>2001-01-01</td>\n",
       "      <td>chosun</td>\n",
       "    </tr>\n",
       "  </tbody>\n",
       "</table>\n",
       "</div>"
      ],
      "text/plain": [
       "                                               title        date company\n",
       "0                      경제전문가·일반인 긴급 여론조사;“구조조정만이 살길”  2001-01-01  chosun\n",
       "1                            ◇희망의 2001년… 다시 한번 뛰어보자;  2001-01-01  chosun\n",
       "2                       클린턴이 임명한 테닛;부시, CIA국장 유임시킬듯;  2001-01-01  chosun\n",
       "3  민주의원 이적 새해정국 파문;3명 자민련 입당… 교섭단체 가능 야 강력반발… 영수회...  2001-01-01  chosun\n",
       "4              공적자금 투입 4개은 금융노조 전격 탈퇴;한빛·서울도 구조조정 동의  2001-01-01  chosun"
      ]
     },
     "execution_count": 13,
     "metadata": {},
     "output_type": "execute_result"
    }
   ],
   "source": [
    "final = final.drop([final.columns[0]], axis=1)\n",
    "final.head()"
   ]
  },
  {
   "cell_type": "code",
   "execution_count": 14,
   "metadata": {},
   "outputs": [
    {
     "data": {
      "text/html": [
       "<div>\n",
       "<style scoped>\n",
       "    .dataframe tbody tr th:only-of-type {\n",
       "        vertical-align: middle;\n",
       "    }\n",
       "\n",
       "    .dataframe tbody tr th {\n",
       "        vertical-align: top;\n",
       "    }\n",
       "\n",
       "    .dataframe thead th {\n",
       "        text-align: right;\n",
       "    }\n",
       "</style>\n",
       "<table border=\"1\" class=\"dataframe\">\n",
       "  <thead>\n",
       "    <tr style=\"text-align: right;\">\n",
       "      <th></th>\n",
       "      <th>title</th>\n",
       "      <th>date</th>\n",
       "      <th>company</th>\n",
       "    </tr>\n",
       "  </thead>\n",
       "  <tbody>\n",
       "    <tr>\n",
       "      <th>971275</th>\n",
       "      <td>상위 20% 소득 2.0% 줄어들 때 하위 20% 6.5% 줄었다</td>\n",
       "      <td>2022-11-21</td>\n",
       "      <td>khan</td>\n",
       "    </tr>\n",
       "    <tr>\n",
       "      <th>971276</th>\n",
       "      <td>가계소득 하위 20%, 지출 절반이 ‘식비’···먹고살기 힘들어졌다</td>\n",
       "      <td>2022-11-21</td>\n",
       "      <td>khan</td>\n",
       "    </tr>\n",
       "    <tr>\n",
       "      <th>971277</th>\n",
       "      <td>APEC 간 한덕수 총리 “빈살만, 윤 대통령 만남 좋았다더라”</td>\n",
       "      <td>2022-11-21</td>\n",
       "      <td>khan</td>\n",
       "    </tr>\n",
       "    <tr>\n",
       "      <th>971278</th>\n",
       "      <td>[조광희의 아이러니] 이태원 참사에서 되풀이되는 한국증후군</td>\n",
       "      <td>2022-11-21</td>\n",
       "      <td>khan</td>\n",
       "    </tr>\n",
       "    <tr>\n",
       "      <th>971279</th>\n",
       "      <td>개막식 빛낸 BTS 정국···사상 첫 중동·겨울 월드컵 '킥오프'</td>\n",
       "      <td>2022-11-21</td>\n",
       "      <td>khan</td>\n",
       "    </tr>\n",
       "  </tbody>\n",
       "</table>\n",
       "</div>"
      ],
      "text/plain": [
       "                                        title        date company\n",
       "971275   상위 20% 소득 2.0% 줄어들 때 하위 20% 6.5% 줄었다  2022-11-21    khan\n",
       "971276  가계소득 하위 20%, 지출 절반이 ‘식비’···먹고살기 힘들어졌다  2022-11-21    khan\n",
       "971277    APEC 간 한덕수 총리 “빈살만, 윤 대통령 만남 좋았다더라”  2022-11-21    khan\n",
       "971278       [조광희의 아이러니] 이태원 참사에서 되풀이되는 한국증후군  2022-11-21    khan\n",
       "971279   개막식 빛낸 BTS 정국···사상 첫 중동·겨울 월드컵 '킥오프'  2022-11-21    khan"
      ]
     },
     "execution_count": 14,
     "metadata": {},
     "output_type": "execute_result"
    }
   ],
   "source": [
    "final.tail()"
   ]
  },
  {
   "cell_type": "code",
   "execution_count": 27,
   "metadata": {},
   "outputs": [
    {
     "data": {
      "text/html": [
       "<div>\n",
       "<style scoped>\n",
       "    .dataframe tbody tr th:only-of-type {\n",
       "        vertical-align: middle;\n",
       "    }\n",
       "\n",
       "    .dataframe tbody tr th {\n",
       "        vertical-align: top;\n",
       "    }\n",
       "\n",
       "    .dataframe thead th {\n",
       "        text-align: right;\n",
       "    }\n",
       "</style>\n",
       "<table border=\"1\" class=\"dataframe\">\n",
       "  <thead>\n",
       "    <tr style=\"text-align: right;\">\n",
       "      <th></th>\n",
       "      <th>title</th>\n",
       "      <th>date</th>\n",
       "      <th>company</th>\n",
       "    </tr>\n",
       "  </thead>\n",
       "  <tbody>\n",
       "    <tr>\n",
       "      <th>0</th>\n",
       "      <td>경제전문가·일반인 긴급 여론조사;“구조조정만이 살길”</td>\n",
       "      <td>2001-01-01</td>\n",
       "      <td>chosun</td>\n",
       "    </tr>\n",
       "    <tr>\n",
       "      <th>1</th>\n",
       "      <td>◇희망의 2001년… 다시 한번 뛰어보자;</td>\n",
       "      <td>2001-01-01</td>\n",
       "      <td>chosun</td>\n",
       "    </tr>\n",
       "    <tr>\n",
       "      <th>2</th>\n",
       "      <td>클린턴이 임명한 테닛;부시, CIA국장 유임시킬듯;</td>\n",
       "      <td>2001-01-01</td>\n",
       "      <td>chosun</td>\n",
       "    </tr>\n",
       "    <tr>\n",
       "      <th>3</th>\n",
       "      <td>민주의원 이적 새해정국 파문;3명 자민련 입당… 교섭단체 가능 야 강력반발… 영수회...</td>\n",
       "      <td>2001-01-01</td>\n",
       "      <td>chosun</td>\n",
       "    </tr>\n",
       "    <tr>\n",
       "      <th>4</th>\n",
       "      <td>공적자금 투입 4개은 금융노조 전격 탈퇴;한빛·서울도 구조조정 동의</td>\n",
       "      <td>2001-01-01</td>\n",
       "      <td>chosun</td>\n",
       "    </tr>\n",
       "    <tr>\n",
       "      <th>...</th>\n",
       "      <td>...</td>\n",
       "      <td>...</td>\n",
       "      <td>...</td>\n",
       "    </tr>\n",
       "    <tr>\n",
       "      <th>971275</th>\n",
       "      <td>상위 20% 소득 2.0% 줄어들 때 하위 20% 6.5% 줄었다</td>\n",
       "      <td>2022-11-21</td>\n",
       "      <td>khan</td>\n",
       "    </tr>\n",
       "    <tr>\n",
       "      <th>971276</th>\n",
       "      <td>가계소득 하위 20%, 지출 절반이 ‘식비’···먹고살기 힘들어졌다</td>\n",
       "      <td>2022-11-21</td>\n",
       "      <td>khan</td>\n",
       "    </tr>\n",
       "    <tr>\n",
       "      <th>971277</th>\n",
       "      <td>APEC 간 한덕수 총리 “빈살만, 윤 대통령 만남 좋았다더라”</td>\n",
       "      <td>2022-11-21</td>\n",
       "      <td>khan</td>\n",
       "    </tr>\n",
       "    <tr>\n",
       "      <th>971278</th>\n",
       "      <td>[조광희의 아이러니] 이태원 참사에서 되풀이되는 한국증후군</td>\n",
       "      <td>2022-11-21</td>\n",
       "      <td>khan</td>\n",
       "    </tr>\n",
       "    <tr>\n",
       "      <th>971279</th>\n",
       "      <td>개막식 빛낸 BTS 정국···사상 첫 중동·겨울 월드컵 '킥오프'</td>\n",
       "      <td>2022-11-21</td>\n",
       "      <td>khan</td>\n",
       "    </tr>\n",
       "  </tbody>\n",
       "</table>\n",
       "<p>3963527 rows × 3 columns</p>\n",
       "</div>"
      ],
      "text/plain": [
       "                                                    title        date company\n",
       "0                           경제전문가·일반인 긴급 여론조사;“구조조정만이 살길”  2001-01-01  chosun\n",
       "1                                 ◇희망의 2001년… 다시 한번 뛰어보자;  2001-01-01  chosun\n",
       "2                            클린턴이 임명한 테닛;부시, CIA국장 유임시킬듯;  2001-01-01  chosun\n",
       "3       민주의원 이적 새해정국 파문;3명 자민련 입당… 교섭단체 가능 야 강력반발… 영수회...  2001-01-01  chosun\n",
       "4                   공적자금 투입 4개은 금융노조 전격 탈퇴;한빛·서울도 구조조정 동의  2001-01-01  chosun\n",
       "...                                                   ...         ...     ...\n",
       "971275               상위 20% 소득 2.0% 줄어들 때 하위 20% 6.5% 줄었다  2022-11-21    khan\n",
       "971276              가계소득 하위 20%, 지출 절반이 ‘식비’···먹고살기 힘들어졌다  2022-11-21    khan\n",
       "971277                APEC 간 한덕수 총리 “빈살만, 윤 대통령 만남 좋았다더라”  2022-11-21    khan\n",
       "971278                   [조광희의 아이러니] 이태원 참사에서 되풀이되는 한국증후군  2022-11-21    khan\n",
       "971279               개막식 빛낸 BTS 정국···사상 첫 중동·겨울 월드컵 '킥오프'  2022-11-21    khan\n",
       "\n",
       "[3963527 rows x 3 columns]"
      ]
     },
     "execution_count": 27,
     "metadata": {},
     "output_type": "execute_result"
    }
   ],
   "source": [
    "final.reset_index()\n",
    "final"
   ]
  },
  {
   "cell_type": "code",
   "execution_count": 107,
   "metadata": {},
   "outputs": [
    {
     "data": {
      "text/html": [
       "<div>\n",
       "<style scoped>\n",
       "    .dataframe tbody tr th:only-of-type {\n",
       "        vertical-align: middle;\n",
       "    }\n",
       "\n",
       "    .dataframe tbody tr th {\n",
       "        vertical-align: top;\n",
       "    }\n",
       "\n",
       "    .dataframe thead th {\n",
       "        text-align: right;\n",
       "    }\n",
       "</style>\n",
       "<table border=\"1\" class=\"dataframe\">\n",
       "  <thead>\n",
       "    <tr style=\"text-align: right;\">\n",
       "      <th></th>\n",
       "      <th>title</th>\n",
       "      <th>date</th>\n",
       "      <th>company</th>\n",
       "      <th>year</th>\n",
       "      <th>month</th>\n",
       "      <th>day</th>\n",
       "    </tr>\n",
       "  </thead>\n",
       "  <tbody>\n",
       "    <tr>\n",
       "      <th>0</th>\n",
       "      <td>경제전문가일반인 긴급 여론조사구조조정만이 살길</td>\n",
       "      <td>2001-01-01</td>\n",
       "      <td>chosun</td>\n",
       "      <td>2001</td>\n",
       "      <td>01</td>\n",
       "      <td>01</td>\n",
       "    </tr>\n",
       "    <tr>\n",
       "      <th>1</th>\n",
       "      <td>희망의 년 다시 한번 뛰어보자</td>\n",
       "      <td>2001-01-01</td>\n",
       "      <td>chosun</td>\n",
       "      <td>2001</td>\n",
       "      <td>01</td>\n",
       "      <td>01</td>\n",
       "    </tr>\n",
       "    <tr>\n",
       "      <th>2</th>\n",
       "      <td>클린턴이 임명한 테닛부시 CIA국장 유임시킬듯</td>\n",
       "      <td>2001-01-01</td>\n",
       "      <td>chosun</td>\n",
       "      <td>2001</td>\n",
       "      <td>01</td>\n",
       "      <td>01</td>\n",
       "    </tr>\n",
       "    <tr>\n",
       "      <th>3</th>\n",
       "      <td>민주의원 이적 새해정국 파문명 자민련 입당 교섭단체 가능 야 강력반발 영수회담 거부 검토</td>\n",
       "      <td>2001-01-01</td>\n",
       "      <td>chosun</td>\n",
       "      <td>2001</td>\n",
       "      <td>01</td>\n",
       "      <td>01</td>\n",
       "    </tr>\n",
       "    <tr>\n",
       "      <th>4</th>\n",
       "      <td>공적자금 투입 개은 금융노조 전격 탈퇴한빛서울도 구조조정 동의</td>\n",
       "      <td>2001-01-01</td>\n",
       "      <td>chosun</td>\n",
       "      <td>2001</td>\n",
       "      <td>01</td>\n",
       "      <td>01</td>\n",
       "    </tr>\n",
       "    <tr>\n",
       "      <th>...</th>\n",
       "      <td>...</td>\n",
       "      <td>...</td>\n",
       "      <td>...</td>\n",
       "      <td>...</td>\n",
       "      <td>...</td>\n",
       "      <td>...</td>\n",
       "    </tr>\n",
       "    <tr>\n",
       "      <th>971275</th>\n",
       "      <td>상위  소득  줄어들 때 하위   줄었다</td>\n",
       "      <td>2022-11-21</td>\n",
       "      <td>khan</td>\n",
       "      <td>2022</td>\n",
       "      <td>11</td>\n",
       "      <td>21</td>\n",
       "    </tr>\n",
       "    <tr>\n",
       "      <th>971276</th>\n",
       "      <td>가계소득 하위  지출 절반이 식비먹고살기 힘들어졌다</td>\n",
       "      <td>2022-11-21</td>\n",
       "      <td>khan</td>\n",
       "      <td>2022</td>\n",
       "      <td>11</td>\n",
       "      <td>21</td>\n",
       "    </tr>\n",
       "    <tr>\n",
       "      <th>971277</th>\n",
       "      <td>APEC 간 한덕수 총리 빈살만 윤 대통령 만남 좋았다더라</td>\n",
       "      <td>2022-11-21</td>\n",
       "      <td>khan</td>\n",
       "      <td>2022</td>\n",
       "      <td>11</td>\n",
       "      <td>21</td>\n",
       "    </tr>\n",
       "    <tr>\n",
       "      <th>971278</th>\n",
       "      <td>조광희의 아이러니 이태원 참사에서 되풀이되는 한국증후군</td>\n",
       "      <td>2022-11-21</td>\n",
       "      <td>khan</td>\n",
       "      <td>2022</td>\n",
       "      <td>11</td>\n",
       "      <td>21</td>\n",
       "    </tr>\n",
       "    <tr>\n",
       "      <th>971279</th>\n",
       "      <td>개막식 빛낸 BTS 정국사상 첫 중동겨울 월드컵 킥오프</td>\n",
       "      <td>2022-11-21</td>\n",
       "      <td>khan</td>\n",
       "      <td>2022</td>\n",
       "      <td>11</td>\n",
       "      <td>21</td>\n",
       "    </tr>\n",
       "  </tbody>\n",
       "</table>\n",
       "<p>3963527 rows × 6 columns</p>\n",
       "</div>"
      ],
      "text/plain": [
       "                                                    title        date company  \\\n",
       "0                               경제전문가일반인 긴급 여론조사구조조정만이 살길  2001-01-01  chosun   \n",
       "1                                        희망의 년 다시 한번 뛰어보자  2001-01-01  chosun   \n",
       "2                               클린턴이 임명한 테닛부시 CIA국장 유임시킬듯  2001-01-01  chosun   \n",
       "3       민주의원 이적 새해정국 파문명 자민련 입당 교섭단체 가능 야 강력반발 영수회담 거부 검토  2001-01-01  chosun   \n",
       "4                      공적자금 투입 개은 금융노조 전격 탈퇴한빛서울도 구조조정 동의  2001-01-01  chosun   \n",
       "...                                                   ...         ...     ...   \n",
       "971275                             상위  소득  줄어들 때 하위   줄었다  2022-11-21    khan   \n",
       "971276                       가계소득 하위  지출 절반이 식비먹고살기 힘들어졌다  2022-11-21    khan   \n",
       "971277                   APEC 간 한덕수 총리 빈살만 윤 대통령 만남 좋았다더라  2022-11-21    khan   \n",
       "971278                     조광희의 아이러니 이태원 참사에서 되풀이되는 한국증후군  2022-11-21    khan   \n",
       "971279                     개막식 빛낸 BTS 정국사상 첫 중동겨울 월드컵 킥오프  2022-11-21    khan   \n",
       "\n",
       "        year month day  \n",
       "0       2001    01  01  \n",
       "1       2001    01  01  \n",
       "2       2001    01  01  \n",
       "3       2001    01  01  \n",
       "4       2001    01  01  \n",
       "...      ...   ...  ..  \n",
       "971275  2022    11  21  \n",
       "971276  2022    11  21  \n",
       "971277  2022    11  21  \n",
       "971278  2022    11  21  \n",
       "971279  2022    11  21  \n",
       "\n",
       "[3963527 rows x 6 columns]"
      ]
     },
     "execution_count": 107,
     "metadata": {},
     "output_type": "execute_result"
    }
   ],
   "source": [
    "final['year']= final['date'].str.slice(0,4)\n",
    "final['month']= final['date'].str.slice(5,7)\n",
    "final['day']= final['date'].str.slice(8,10)\n",
    "final.sort_values('date', ascending=False)\n",
    "final"
   ]
  },
  {
   "cell_type": "code",
   "execution_count": 111,
   "metadata": {},
   "outputs": [],
   "source": [
    "final['date'] = pd.to_datetime(final.date)"
   ]
  },
  {
   "cell_type": "code",
   "execution_count": 116,
   "metadata": {},
   "outputs": [],
   "source": [
    "final = final.sort_values('date')"
   ]
  },
  {
   "cell_type": "code",
   "execution_count": 117,
   "metadata": {},
   "outputs": [],
   "source": [
    "final.to_csv(\"news_final.csv\")"
   ]
  },
  {
   "cell_type": "markdown",
   "metadata": {},
   "source": [
    "자연어처리시작"
   ]
  },
  {
   "cell_type": "code",
   "execution_count": 31,
   "metadata": {},
   "outputs": [
    {
     "name": "stdout",
     "output_type": "stream",
     "text": [
      "('64bit', 'WindowsPE')\n"
     ]
    }
   ],
   "source": [
    "import platform \n",
    "print(platform.architecture())"
   ]
  },
  {
   "cell_type": "code",
   "execution_count": 33,
   "metadata": {},
   "outputs": [],
   "source": [
    "import konlpy\n",
    "\n",
    "from konlpy.tag import Okt\n",
    "\n",
    "from konlpy.utils import pprint\n",
    "\n",
    "okt = Okt()"
   ]
  },
  {
   "cell_type": "code",
   "execution_count": 28,
   "metadata": {},
   "outputs": [
    {
     "data": {
      "text/plain": [
       "'경제전문가·일반인 긴급 여론조사;“구조조정만이 살길”'"
      ]
     },
     "execution_count": 28,
     "metadata": {},
     "output_type": "execute_result"
    }
   ],
   "source": [
    "sample = final['title'].iloc[0]\n",
    "sample"
   ]
  },
  {
   "cell_type": "code",
   "execution_count": 34,
   "metadata": {},
   "outputs": [
    {
     "name": "stdout",
     "output_type": "stream",
     "text": [
      "['경제', '전문가', '·', '일반인', '긴급', '여론조사', ';', '“', '구조조정', '만이', '살길', '”']\n"
     ]
    }
   ],
   "source": [
    "print(okt.morphs(sample))"
   ]
  },
  {
   "cell_type": "code",
   "execution_count": 35,
   "metadata": {},
   "outputs": [
    {
     "name": "stdout",
     "output_type": "stream",
     "text": [
      "['경제', '전문가', '일반인', '긴급', '여론조사', '구조조정', '살길']\n"
     ]
    }
   ],
   "source": [
    "print(okt.nouns(sample))"
   ]
  },
  {
   "cell_type": "code",
   "execution_count": 70,
   "metadata": {},
   "outputs": [],
   "source": [
    "def get_stopwords():\n",
    "    stopwords = list()\n",
    "    \n",
    "    f = open('stopwords.txt', 'r', encoding='utf-8')\n",
    "    \n",
    "    while True:\n",
    "        line = f.readline()\n",
    "        if not line: break\n",
    "        stopwords.append(line.strip())\n",
    "        \n",
    "    return stopwords"
   ]
  },
  {
   "cell_type": "code",
   "execution_count": 71,
   "metadata": {},
   "outputs": [],
   "source": [
    "def okt_tokenizer(text):\n",
    "    okt = Okt()\n",
    "    text = re.sub(r'[^ ㄱ-ㅣ가-힣A-Za-z]', '', text) # 특수기호 제거\n",
    "    stopwords = get_stopwords() # 불용어\n",
    "    \n",
    "    return [token for token in okt.nouns(text)\n",
    "            if len(token) > 1 and token not in stopwords]"
   ]
  },
  {
   "cell_type": "code",
   "execution_count": 72,
   "metadata": {},
   "outputs": [],
   "source": [
    "final['title'] = final['title'].str.replace(\"[^ ㄱ-ㅣ가-힣A-Za-z]\",\"\",regex=True)"
   ]
  },
  {
   "cell_type": "code",
   "execution_count": 73,
   "metadata": {},
   "outputs": [
    {
     "data": {
      "text/plain": [
       "0                            경제전문가일반인 긴급 여론조사구조조정만이 살길\n",
       "1                                     희망의 년 다시 한번 뛰어보자\n",
       "2                            클린턴이 임명한 테닛부시 CIA국장 유임시킬듯\n",
       "3    민주의원 이적 새해정국 파문명 자민련 입당 교섭단체 가능 야 강력반발 영수회담 거부 검토\n",
       "4                   공적자금 투입 개은 금융노조 전격 탈퇴한빛서울도 구조조정 동의\n",
       "Name: title, dtype: object"
      ]
     },
     "execution_count": 73,
     "metadata": {},
     "output_type": "execute_result"
    }
   ],
   "source": [
    "final['title'].head()"
   ]
  },
  {
   "cell_type": "code",
   "execution_count": 74,
   "metadata": {},
   "outputs": [
    {
     "data": {
      "text/plain": [
       "0                [경제, 전문가, 일반인, 긴급, 여론조사, 구조조정, 만이, 살길]\n",
       "1                                  [희망, 다시, 한번, 뛰어, 보자]\n",
       "2                [클린턴, 임명, 한, 테닛, 부시, CIA, 국장, 유임, 시킬듯]\n",
       "3     [민주, 의원, 이적, 새해, 정국, 파문, 명, 자민련, 입당, 교섭단체, 가능,...\n",
       "4     [공적자금, 투입, 개은, 금융, 노조, 전격, 탈퇴, 한빛, 서울, 도, 구조조정...\n",
       "                            ...                        \n",
       "95    [세계, 달린다, 미, 헤지펀드, 팔루, 조, 현, 국, 이사, 아시아, 투자, 총...\n",
       "96                           [새해, 재테크, 기상도, 흐림, 안전, 최고]\n",
       "97                            [절세, 재테크, 목돈, 이렇게, 굴려, 라]\n",
       "98       [금융, 제도, 변화, 따른, 재테크, 전략, 만원, 안, 넘도록, 이자, 챙겨야]\n",
       "99    [IT, 클럽, 뽑은, 최고, 영향력, 인, 사람, 말이라면, 믿는다, 위, 안철수...\n",
       "Name: title, Length: 100, dtype: object"
      ]
     },
     "execution_count": 74,
     "metadata": {},
     "output_type": "execute_result"
    }
   ],
   "source": [
    "stopwords = get_stopwords()\n",
    "stopwords_except = final['title'].iloc[0:100].apply(okt.morphs)   #iloc 0:100 바꿔주기\n",
    "stopwords_except = stopwords_except.apply(lambda x: [item for item in x if item not in stopwords])\n",
    "stopwords_except"
   ]
  },
  {
   "cell_type": "code",
   "execution_count": 75,
   "metadata": {},
   "outputs": [],
   "source": [
    "from collections import Counter"
   ]
  },
  {
   "cell_type": "code",
   "execution_count": 76,
   "metadata": {},
   "outputs": [
    {
     "data": {
      "text/plain": [
       "array(['경제', '전문가', '일반인', ..., '위', '안철수', '사장'], dtype='<U7')"
      ]
     },
     "execution_count": 76,
     "metadata": {},
     "output_type": "execute_result"
    }
   ],
   "source": [
    "keywords = np.hstack(stopwords_except.values)\n",
    "keywords"
   ]
  },
  {
   "cell_type": "code",
   "execution_count": 77,
   "metadata": {},
   "outputs": [
    {
     "data": {
      "text/plain": [
       "[('한국', 16),\n",
       " ('도', 14),\n",
       " ('경제', 12),\n",
       " ('는', 12),\n",
       " ('세계', 12),\n",
       " ('한', 10),\n",
       " ('새해', 10),\n",
       " ('여론조사', 9),\n",
       " ('명', 7),\n",
       " ('진단', 7)]"
      ]
     },
     "execution_count": 77,
     "metadata": {},
     "output_type": "execute_result"
    }
   ],
   "source": [
    "keywords_counting = Counter(keywords)\n",
    "keywords_counting.most_common(10)"
   ]
  },
  {
   "cell_type": "code",
   "execution_count": 96,
   "metadata": {},
   "outputs": [],
   "source": [
    "def frequency(titles):\n",
    "    #titles = final['title']\n",
    "    titles = titles.str.replace(\"[^ ㄱ-ㅣ가-힣A-Za-z]\",\"\",regex=True)\n",
    "    stopwords = get_stopwords()\n",
    "    titles = titles.apply(okt.morphs)\n",
    "    titles = titles.apply(lambda x: [item for item in x if item not in stopwords])\n",
    "    keywords = np.hstack(titles.values)\n",
    "    keywords_counting = Counter(keywords)\n",
    "    #keywords_counting.most_common(10)\n",
    "    print(keywords_counting)\n"
   ]
  },
  {
   "cell_type": "code",
   "execution_count": 97,
   "metadata": {},
   "outputs": [],
   "source": [
    "titles = final['title'].iloc[101:130]\n",
    "\n"
   ]
  },
  {
   "cell_type": "code",
   "execution_count": 100,
   "metadata": {},
   "outputs": [
    {
     "name": "stdout",
     "output_type": "stream",
     "text": [
      "Counter({'적': 4, '은': 4, '는': 3, '표준': 3, '전쟁': 3, '대': 3, '사설': 3, 'D': 2, '램': 2, '반도체': 2, '세계': 2, '선': 2, '동기': 2, '명': 2, '통상': 2, '환경': 2, '확산': 2, '기본': 2, '세우자': 2, '북': 2, '대통령': 2, '미': 1, '대추격': 1, '흔들리는': 1, '아성': 1, '시장': 1, '절대': 1, '포기': 1, '안': 1, '한다': 1, 'NEC': 1, '부문': 1, '스기하': 1, '라': 1, '사장': 1, '지금': 1, '무선통신': 1, '없는': 1, '전자제품': 1, '블루투스': 1, '놓고': 1, '기업': 1, '선점': 1, '나서': 1, '대표': 1, '인': 1, '비디오테이프': 1, 'VHS': 1, '베타': 1, 'IMT': 1, '비': 1, '컴퓨터': 1, '운영': 1, '윈도': 1, '리눅스': 1, '개방': 1, '형': 1, 'MA': 1, '형등': 1, '새': 1, '뮤추얼펀드': 1, '등장': 1, '주가': 1, '유망': 1, '할까': 1, '테마주': 1, '눈': 1, '띄네': 1, '새해': 1, '증시': 1, '시계': 1, '제로': 1, '불황': 1, '이라지만': 1, '탈출': 1, '틈새': 1, '부동산': 1, '전문가': 1, '설문조사': 1, '주택': 1, '가격': 1, '점': 1, '여름': 1, '이후': 1, '바뀌는': 1, '제도': 1, '알': 1, '고': 1, '투자': 1, '합시다': 1, '총재': 1, '내일': 1, '영수회담': 1, '참석': 1, '할듯이': 1, '적은': 1, '국민': 1, '배신': 1, '강력': 1, '규탄': 1, '현대': 1, '건설': 1, '감원': 1, '더': 1, '나빠질것': 1, '무역': 1, '협회': 1, '본사': 1, '공': 1, '동': 1, '조': 1, '경제': 1, '침체': 1, '환율': 1, '유가': 1, '수입': 1, '규제': 1, '기온': 1, '급강하': 1, '서울': 1, '오늘': 1, '영하': 1, '도': 1, '룰': 1, '지키면': 1, '손': 1, '해보는': 1, '한국': 1, '불': 1, '원': 1, '개월': 1, '만에': 1, '최고': 1, '후세인': 1, '건재': 1, '개': 1, '신문': 1, '신년사': 1, '공동': 1, '연방제': 1, '방식': 1, '통일': 1, '지향': 1, '보안법': 1, '개정': 1, '시': 1, '부적절': 1, 'DJ': 1, '김정일': 1, '너무': 1, '믿으면': 1, '곤란': 1, '노태우': 1, '전대통령': 1, '강력한': 1, '정부': 1, '구현': 1, '김': 1, '민주': 1, '절차': 1, '어기': 1, '면': 1, '용납': 1, '안해': 1, '광화문': 1, '행사': 1, '장이': 1, '될': 1, '수': 1, '집권': 1, '세력': 1, '도덕': 1, '해이': 1, '도이치': 1, '전': 1, 'CIA': 1, '국장': 1, '부시': 1, '재임': 1, '중': 1, '미는': 1, '위협': 1, '직면': 1, '근로자': 1, '체불': 1, '임금': 1, '작년': 1, '배': 1, '만': 1, '여명': 1, '억': 1, '못': 1, '받아': 1, '방송위': 1, '상임': 1, '위원': 1, '이긍규': 1, '씨': 1, '석': 1, '임대': 1, '누가': 1, '주도했을까': 1, '청와대': 1, '기획': 1, '신': 1, '주류': 1, '작품': 1, '올': 1, '부정': 1, '전망': 1, '경': 1, '블록': 1, '화': 1, '수출': 1, '장벽': 1, '높아져': 1, '기자': 1, '수첩': 1, '일류': 1, '나서는': 1, '일본': 1})\n"
     ]
    }
   ],
   "source": [
    "frequency(titles)"
   ]
  },
  {
   "cell_type": "markdown",
   "metadata": {},
   "source": [
    "#### 해야할일\n",
    "  1. 한겨례 + 유튜브 뉴스 데이터 추가\n",
    "  2. 불용어 사전추가 \n",
    "  3. 자기단어사전 추가 (뭘해야하는지는 아는데 어떻게 하는지를 모르겠음)\n",
    "  4. final 데이터 컬럼 쪼개기 (날짜 등)"
   ]
  }
 ],
 "metadata": {
  "kernelspec": {
   "display_name": "Python 3.10.4 64-bit",
   "language": "python",
   "name": "python3"
  },
  "language_info": {
   "codemirror_mode": {
    "name": "ipython",
    "version": 3
   },
   "file_extension": ".py",
   "mimetype": "text/x-python",
   "name": "python",
   "nbconvert_exporter": "python",
   "pygments_lexer": "ipython3",
   "version": "3.10.4"
  },
  "orig_nbformat": 4,
  "vscode": {
   "interpreter": {
    "hash": "e61232730b999fc0c19071ba2186864ad7a495aa8575040cd85a43a1b00dc407"
   }
  }
 },
 "nbformat": 4,
 "nbformat_minor": 2
}
